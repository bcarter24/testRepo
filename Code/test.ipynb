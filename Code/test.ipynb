{
  "cells": [
    {
      "cell_type": "markdown",
      "metadata": {
        "id": "X8mXtzQpcljU"
      },
      "source": [
        "# Interactive multi-compartment OLM cell example\n",
        "\n",
        "To run this interactive Jupyter Notebook, please click on the rocket icon 🚀 in the top panel. For more information, please see {ref}`how to use this documentation <userdocs:usage:jupyterbooks>`. Please uncomment the line below if you use the Google Colab. (It does not include these packages by default)."
      ]
    },
    {
      "cell_type": "code",
      "execution_count": 1,
      "metadata": {
        "id": "we--cxp4cljZ",
        "colab": {
          "base_uri": "https://localhost:8080/"
        },
        "outputId": "85a6d411-6bb6-4a49-90d1-5b53ae14a67f"
      },
      "outputs": [
        {
          "output_type": "stream",
          "name": "stdout",
          "text": [
            "\u001b[K     |████████████████████████████████| 14.9 MB 38 kB/s \n",
            "\u001b[?25h\u001b[33m  WARNING: Did not find branch or tag 'refs/pull/151/head', assuming revision or ref.\u001b[0m\n",
            "  Building wheel for libNeuroML (setup.py) ... \u001b[?25l\u001b[?25hdone\n",
            "\u001b[K     |████████████████████████████████| 26.9 MB 46.2 MB/s \n",
            "\u001b[K     |████████████████████████████████| 95 kB 4.0 MB/s \n",
            "\u001b[K     |████████████████████████████████| 67 kB 5.1 MB/s \n",
            "\u001b[?25h  Building wheel for airspeed (setup.py) ... \u001b[?25l\u001b[?25hdone\n",
            "Cloning into 'ca1'...\n",
            "remote: Enumerating objects: 3352, done.\u001b[K\n",
            "remote: Counting objects: 100% (20/20), done.\u001b[K\n",
            "remote: Compressing objects: 100% (14/14), done.\u001b[K\n",
            "remote: Total 3352 (delta 6), reused 0 (delta 0), pack-reused 3332\u001b[K\n",
            "Receiving objects: 100% (3352/3352), 198.12 MiB | 28.98 MiB/s, done.\n",
            "Resolving deltas: 100% (1961/1961), done.\n"
          ]
        }
      ],
      "source": [
        "# Install the packages\n",
        "%pip install -q neuron\n",
        "%pip install -q git+https://github.com/NeuralEnsemble/libNeuroML.git@refs/pull/151/head\n",
        "%pip install -q pyNeuroML\n",
        "\n",
        "# Download the membrane mechanisms\n",
        "!git clone https://github.com/mbezaire/ca1.git"
      ]
    },
    {
      "cell_type": "code",
      "source": [
        "# Get the AA0995 morphology \n",
        "import requests\n",
        "URL = \"https://www.dropbox.com/s/befinmwz5303xrl/AA0995.CNG.swc?dl=1\"\n",
        "with requests.get(URL) as response:\n",
        "  with open(\"AA0995.CNG.swc\", \"wb\") as f:\n",
        "    f.write(response.content)"
      ],
      "metadata": {
        "id": "dQKbUi7ZeLUc"
      },
      "execution_count": 2,
      "outputs": []
    },
    {
      "cell_type": "code",
      "execution_count": 3,
      "metadata": {
        "id": "5_e_Oacdclja"
      },
      "outputs": [],
      "source": [
        "#!/usr/bin/env python3\n",
        "\"\"\"\n",
        "Multi-compartmental OLM cell example\n",
        "\n",
        "File: olm-example.py\n",
        "\n",
        "Copyright 2022 NeuroML contributors\n",
        "Authors: Padraig Gleeson, Ankur Sinha\n",
        "\"\"\"\n",
        "\n",
        "import neuroml\n",
        "from neuroml import NeuroMLDocument\n",
        "from neuroml.utils import component_factory\n",
        "from pyneuroml import pynml\n",
        "from pyneuroml.lems import LEMSSimulation\n",
        "from pyneuroml.plot.PlotMorphology import plot_2D\n",
        "import numpy as np"
      ]
    },
    {
      "cell_type": "code",
      "source": [
        "ls"
      ],
      "metadata": {
        "colab": {
          "base_uri": "https://localhost:8080/"
        },
        "id": "V43O62N8-E8H",
        "outputId": "6856e16e-f46c-4534-dc47-4214c422adc9"
      },
      "execution_count": 4,
      "outputs": [
        {
          "output_type": "stream",
          "name": "stdout",
          "text": [
            "AA0995.CNG.swc  \u001b[0m\u001b[01;34mca1\u001b[0m/  \u001b[01;34msample_data\u001b[0m/\n"
          ]
        }
      ]
    },
    {
      "cell_type": "code",
      "source": [
        "mech_path = \"ca1/NeuroML2/channels/\"\n",
        "morph_file = \"AA0995.CNG.swc\" "
      ],
      "metadata": {
        "id": "yGuxx5V9da1n"
      },
      "execution_count": 5,
      "outputs": []
    },
    {
      "cell_type": "markdown",
      "metadata": {
        "id": "7qeC_dgLcljb"
      },
      "source": [
        "The CellBuilder module file can be found in the same folder as the Python script. It is used to define the helper functions that we use in our main file.\n",
        "\n",
        "## Declaring the NeuroML model\n",
        "### Create the cell\n",
        "\n",
        "In this example, we do not create the ion channels. We include ion channels that are already provided in NeuroML files. "
      ]
    },
    {
      "cell_type": "code",
      "execution_count": 6,
      "metadata": {
        "id": "Mh1fCDDMcljc"
      },
      "outputs": [],
      "source": [
        "def create_olm_cell():\n",
        "    \"\"\"Create the complete cell.\n",
        "\n",
        "    :returns: cell object\n",
        "    \"\"\"\n",
        "    nml_cell_doc = component_factory(\"NeuroMLDocument\", id=\"oml_cell\")\n",
        "    cell = nml_cell_doc.add(\"Cell\", id=\"olm\", neuro_lex_id=\"NLXCELL:091206\")  # type neuroml.Cell\n",
        "    nml_cell_file = cell.id + \".cell.nml\"\n",
        "\n",
        "    cell.summary()\n",
        "    cell.info(show_contents=True)\n",
        "    cell.morphology.info(show_contents=True)\n",
        "\n",
        "    # Add two soma segments to an unbranched segment group\n",
        "    cell.add_unbranched_segment_group(\"soma_0\")\n",
        "    diam = 10.0\n",
        "    soma_0 = cell.add_segment(\n",
        "        prox=[0.0, 0.0, 0.0, diam],\n",
        "        dist=[0.0, 10., 0.0, diam],\n",
        "        name=\"Seg0_soma_0\",\n",
        "        group_id=\"soma_0\",\n",
        "        seg_type=\"soma\"\n",
        "    )\n",
        "\n",
        "    soma_1 = cell.add_segment(\n",
        "        prox=None,\n",
        "        dist=[0.0, 10. + 10., 0.0, diam],\n",
        "        name=\"Seg1_soma_0\",\n",
        "        parent=soma_0,\n",
        "        group_id=\"soma_0\",\n",
        "        seg_type=\"soma\"\n",
        "    )\n",
        "\n",
        "    # Add axon segments\n",
        "    diam = 1.5\n",
        "    cell.add_unbranched_segments(\n",
        "        [\n",
        "            [0.0, 0.0, 0.0, diam],\n",
        "            [0.0, -75, 0.0, diam],\n",
        "            [0.0, -150, 0.0, diam],\n",
        "        ],\n",
        "        parent=soma_0,\n",
        "        fraction_along=0.0,\n",
        "        group_id=\"axon_0\",\n",
        "        seg_type=\"axon\"\n",
        "    )\n",
        "\n",
        "    # Add 2 dendrite segments, using the branching utility function\n",
        "\n",
        "    diam = 3.0\n",
        "    cell.add_unbranched_segments(\n",
        "        [\n",
        "            [0.0, 20.0, 0.0, diam],\n",
        "            [100, 120, 0.0, diam],\n",
        "            [177, 197, 0.0, diam],\n",
        "        ],\n",
        "        parent=soma_1,\n",
        "        fraction_along=1.0,\n",
        "        group_id=\"dend_0\",\n",
        "        seg_type=\"dendrite\"\n",
        "    )\n",
        "\n",
        "    cell.add_unbranched_segments(\n",
        "        [\n",
        "            [0.0, 20.0, 0.0, diam],\n",
        "            [-100, 120, 0.0, diam],\n",
        "            [-177, 197, 0.0, diam],\n",
        "        ],\n",
        "        parent=soma_1,\n",
        "        fraction_along=1.0,\n",
        "        group_id=\"dend_1\",\n",
        "        seg_type=\"dendrite\"\n",
        "    )\n",
        "\n",
        "    # color groups for morphology plots\n",
        "    den_seg_group = cell.get_segment_group(\"dendrite_group\")\n",
        "    den_seg_group.add(\"Property\", tag=\"color\", value=\"0.8 0 0\")\n",
        "\n",
        "    ax_seg_group = cell.get_segment_group(\"axon_group\")\n",
        "    ax_seg_group.add(\"Property\", tag=\"color\", value=\"0 0.8 0\")\n",
        "\n",
        "    soma_seg_group = cell.get_segment_group(\"soma_group\")\n",
        "    soma_seg_group.add(\"Property\", tag=\"color\", value=\"0 0 0.8\")\n",
        "\n",
        "    # Other cell properties\n",
        "    cell.set_init_memb_potential(\"-67mV\")\n",
        "    cell.set_resistivity(\"0.15 kohm_cm\")\n",
        "    cell.set_specific_capacitance(\"1.3 uF_per_cm2\")\n",
        "\n",
        "    # channels\n",
        "    # leak\n",
        "    cell.add_channel_density(nml_cell_doc,\n",
        "                             cd_id=\"leak_all\",\n",
        "                             cond_density=\"0.01 mS_per_cm2\",\n",
        "                             ion_channel=\"leak_chan\",\n",
        "                             ion_chan_def_file=mech_path + \"leak_chan.channel.nml\",\n",
        "                             erev=\"-67mV\",\n",
        "                             ion=\"non_specific\")\n",
        "    # HCNolm_soma\n",
        "    cell.add_channel_density(nml_cell_doc,\n",
        "                             cd_id=\"HCNolm_soma\",\n",
        "                             cond_density=\"0.5 mS_per_cm2\",\n",
        "                             ion_channel=\"HCNolm\",\n",
        "                             ion_chan_def_file=mech_path + \"HCNolm.channel.nml\",\n",
        "                             erev=\"-32.9mV\",\n",
        "                             ion=\"h\",\n",
        "                             group_id=\"soma_group\")\n",
        "    # Kdrfast_soma\n",
        "    cell.add_channel_density(nml_cell_doc,\n",
        "                             cd_id=\"Kdrfast_soma\",\n",
        "                             cond_density=\"73.37 mS_per_cm2\",\n",
        "                             ion_channel=\"Kdrfast\",\n",
        "                             ion_chan_def_file=mech_path + \"Kdrfast.channel.nml\",\n",
        "                             erev=\"-77mV\",\n",
        "                             ion=\"k\",\n",
        "                             group_id=\"soma_group\")\n",
        "    # Kdrfast_dendrite\n",
        "    cell.add_channel_density(nml_cell_doc,\n",
        "                             cd_id=\"Kdrfast_dendrite\",\n",
        "                             cond_density=\"105.8 mS_per_cm2\",\n",
        "                             ion_channel=\"Kdrfast\",\n",
        "                             ion_chan_def_file=mech_path + \"Kdrfast.channel.nml\",\n",
        "                             erev=\"-77mV\",\n",
        "                             ion=\"k\",\n",
        "                             group_id=\"dendrite_group\")\n",
        "    # Kdrfast_axon\n",
        "    cell.add_channel_density(nml_cell_doc,\n",
        "                             cd_id=\"Kdrfast_axon\",\n",
        "                             cond_density=\"117.392 mS_per_cm2\",\n",
        "                             ion_channel=\"Kdrfast\",\n",
        "                             ion_chan_def_file=mech_path + \"Kdrfast.channel.nml\",\n",
        "                             erev=\"-77mV\",\n",
        "                             ion=\"k\",\n",
        "                             group_id=\"axon_group\")\n",
        "    # KvAolm_soma\n",
        "    cell.add_channel_density(nml_cell_doc,\n",
        "                             cd_id=\"KvAolm_soma\",\n",
        "                             cond_density=\"4.95 mS_per_cm2\",\n",
        "                             ion_channel=\"KvAolm\",\n",
        "                             ion_chan_def_file=mech_path + \"KvAolm.channel.nml\",\n",
        "                             erev=\"-77mV\",\n",
        "                             ion=\"k\",\n",
        "                             group_id=\"soma_group\")\n",
        "    # KvAolm_dendrite\n",
        "    cell.add_channel_density(nml_cell_doc,\n",
        "                             cd_id=\"KvAolm_dendrite\",\n",
        "                             cond_density=\"2.8 mS_per_cm2\",\n",
        "                             ion_channel=\"KvAolm\",\n",
        "                             ion_chan_def_file=mech_path + \"KvAolm.channel.nml\",\n",
        "                             erev=\"-77mV\",\n",
        "                             ion=\"k\",\n",
        "                             group_id=\"dendrite_group\")\n",
        "    # Nav_soma\n",
        "    cell.add_channel_density(nml_cell_doc,\n",
        "                             cd_id=\"Nav_soma\",\n",
        "                             cond_density=\"10.7 mS_per_cm2\",\n",
        "                             ion_channel=\"Nav\",\n",
        "                             ion_chan_def_file=mech_path + \"Nav.channel.nml\",\n",
        "                             erev=\"50mV\",\n",
        "                             ion=\"na\",\n",
        "                             group_id=\"soma_group\")\n",
        "    # Nav_dendrite\n",
        "    cell.add_channel_density(nml_cell_doc,\n",
        "                             cd_id=\"Nav_dendrite\",\n",
        "                             cond_density=\"23.4 mS_per_cm2\",\n",
        "                             ion_channel=\"Nav\",\n",
        "                             ion_chan_def_file=mech_path + \"Nav.channel.nml\",\n",
        "                             erev=\"50mV\",\n",
        "                             ion=\"na\",\n",
        "                             group_id=\"dendrite_group\")\n",
        "    # Nav_axon\n",
        "    cell.add_channel_density(nml_cell_doc,\n",
        "                             cd_id=\"Nav_axon\",\n",
        "                             cond_density=\"17.12 mS_per_cm2\",\n",
        "                             ion_channel=\"Nav\",\n",
        "                             ion_chan_def_file=mech_path + \"Nav.channel.nml\",\n",
        "                             erev=\"50mV\",\n",
        "                             ion=\"na\",\n",
        "                             group_id=\"axon_group\")\n",
        "\n",
        "    cell.validate(recursive=True)\n",
        "    pynml.write_neuroml2_file(nml_cell_doc, nml_cell_file, True, True)\n",
        "    plot_2D(nml_cell_file, plane2d=\"xy\", nogui=True,\n",
        "            save_to_file=\"olm.cell.xy.png\")\n",
        "    return nml_cell_file"
      ]
    },
    {
      "cell_type": "markdown",
      "metadata": {
        "id": "XSjEl6A4cljf"
      },
      "source": [
        "### Create the network"
      ]
    },
    {
      "cell_type": "code",
      "execution_count": 7,
      "metadata": {
        "id": "a-UVDXQfcljf"
      },
      "outputs": [],
      "source": [
        "def create_olm_network():\n",
        "    \"\"\"Create the network\n",
        "\n",
        "    :returns: name of network nml file\n",
        "    \"\"\"\n",
        "    net_doc = NeuroMLDocument(id=\"network\",\n",
        "                              notes=\"OLM cell network\")\n",
        "    net_doc_fn = \"olm_example_net.nml\"\n",
        "    net_doc.add(\"IncludeType\", href=create_olm_cell())\n",
        "    net = net_doc.add(\"Network\", id=\"single_olm_cell_network\", validate=False)\n",
        "    # Create a population: convenient to create many cells of the same type\n",
        "    pop = net.add(\"Population\", id=\"pop0\", notes=\"A population for our cell\",\n",
        "                  component=\"olm\", size=1, type=\"populationList\",\n",
        "                  validate=False)\n",
        "    pop.add(\"Instance\", id=0, location=component_factory(\"Location\", x=0., y=0., z=0.))\n",
        "    # Input\n",
        "    net_doc.add(\"PulseGenerator\", id=\"pg_olm\", notes=\"Simple pulse generator\", delay=\"100ms\", duration=\"100ms\", amplitude=\"0.08nA\")\n",
        "\n",
        "    net.add(\"ExplicitInput\", target=\"pop0[0]\", input=\"pg_olm\")\n",
        "\n",
        "    pynml.write_neuroml2_file(nml2_doc=net_doc, nml2_file_name=net_doc_fn, validate=True)\n",
        "    return net_doc_fn"
      ]
    },
    {
      "cell_type": "markdown",
      "metadata": {
        "id": "gds60yzTcljg"
      },
      "source": [
        "## Plot the data we record"
      ]
    },
    {
      "cell_type": "code",
      "execution_count": 8,
      "metadata": {
        "id": "BmCqJ00Mcljh"
      },
      "outputs": [],
      "source": [
        "def plot_data(sim_id):\n",
        "    \"\"\"Plot the sim data.\n",
        "\n",
        "    Load the data from the file and plot the graph for the membrane potential\n",
        "    using the pynml generate_plot utility function.\n",
        "\n",
        "    :sim_id: ID of simulaton\n",
        "\n",
        "    \"\"\"\n",
        "    data_array = np.loadtxt(sim_id + \".dat\")\n",
        "    pynml.generate_plot([data_array[:, 0]], [data_array[:, 1]], \"Membrane potential (soma seg 0)\", show_plot_already=False, save_figure_to=sim_id + \"_seg0_soma0-v.png\", xaxis=\"time (s)\", yaxis=\"membrane potential (V)\")\n",
        "    pynml.generate_plot([data_array[:, 0]], [data_array[:, 2]], \"Membrane potential (soma seg 1)\", show_plot_already=False, save_figure_to=sim_id + \"_seg1_soma0-v.png\", xaxis=\"time (s)\", yaxis=\"membrane potential (V)\")\n",
        "    pynml.generate_plot([data_array[:, 0]], [data_array[:, 3]], \"Membrane potential (axon seg 0)\", show_plot_already=False, save_figure_to=sim_id + \"_seg0_axon0-v.png\", xaxis=\"time (s)\", yaxis=\"membrane potential (V)\")\n",
        "    pynml.generate_plot([data_array[:, 0]], [data_array[:, 4]], \"Membrane potential (axon seg 1)\", show_plot_already=False, save_figure_to=sim_id + \"_seg1_axon0-v.png\", xaxis=\"time (s)\", yaxis=\"membrane potential (V)\")"
      ]
    },
    {
      "cell_type": "markdown",
      "metadata": {
        "id": "QZj21QpNcljh"
      },
      "source": [
        "## Create and run the simulaton"
      ]
    },
    {
      "cell_type": "code",
      "execution_count": 9,
      "metadata": {
        "id": "wTOa4TP1clji"
      },
      "outputs": [],
      "source": [
        "def main():\n",
        "    \"\"\"Main function\n",
        "\n",
        "    Include the NeuroML model into a LEMS simulation file, run it, plot some\n",
        "    data.\n",
        "    \"\"\"\n",
        "    # Simulation bits\n",
        "    sim_id = \"olm_example_sim\"\n",
        "    simulation = LEMSSimulation(sim_id=sim_id, duration=600, dt=0.01, simulation_seed=123)\n",
        "    # Include the NeuroML model file\n",
        "    simulation.include_neuroml2_file(create_olm_network())\n",
        "    # Assign target for the simulation\n",
        "    simulation.assign_simulation_target(\"single_olm_cell_network\")\n",
        "\n",
        "    # Recording information from the simulation\n",
        "    simulation.create_output_file(id=\"output0\", file_name=sim_id + \".dat\")\n",
        "    simulation.add_column_to_output_file(\"output0\", column_id=\"pop0_0_v\", quantity=\"pop0[0]/v\")\n",
        "    simulation.add_column_to_output_file(\"output0\",\n",
        "                                         column_id=\"pop0_0_v_Seg0_soma_0\",\n",
        "                                         quantity=\"pop0/0/olm/0/v\")\n",
        "    simulation.add_column_to_output_file(\"output0\",\n",
        "                                         column_id=\"pop0_0_v_Seg1_soma_0\",\n",
        "                                         quantity=\"pop0/0/olm/1/v\")\n",
        "    simulation.add_column_to_output_file(\"output0\",\n",
        "                                         column_id=\"pop0_0_v_Seg0_axon_0\",\n",
        "                                         quantity=\"pop0/0/olm/2/v\")\n",
        "    simulation.add_column_to_output_file(\"output0\",\n",
        "                                         column_id=\"pop0_0_v_Seg1_axon_0\",\n",
        "                                         quantity=\"pop0/0/olm/3/v\")\n",
        "    simulation.add_column_to_output_file(\"output0\",\n",
        "                                         column_id=\"pop0_0_v_Seg0_dend_0\",\n",
        "                                         quantity=\"pop0/0/olm/4/v\")\n",
        "    simulation.add_column_to_output_file(\"output0\",\n",
        "                                         column_id=\"pop0_0_v_Seg1_dend_0\",\n",
        "                                         quantity=\"pop0/0/olm/6/v\")\n",
        "    simulation.add_column_to_output_file(\"output0\",\n",
        "                                         column_id=\"pop0_0_v_Seg0_dend_1\",\n",
        "                                         quantity=\"pop0/0/olm/5/v\")\n",
        "    simulation.add_column_to_output_file(\"output0\",\n",
        "                                         column_id=\"pop0_0_v_Seg1_dend_1\",\n",
        "                                         quantity=\"pop0/0/olm/7/v\")\n",
        "    # Save LEMS simulation to file\n",
        "    sim_file = simulation.save_to_file()\n",
        "\n",
        "    # Run the simulation using the NEURON simulator\n",
        "    pynml.run_lems_with_jneuroml_neuron(sim_file, max_memory=\"2G\", nogui=True,\n",
        "                                        plot=False, skip_run=False)\n",
        "    # Plot the data\n",
        "    plot_data(sim_id)"
      ]
    },
    {
      "cell_type": "code",
      "execution_count": 10,
      "metadata": {
        "id": "VcHgm65fclji",
        "outputId": "836b3237-1687-4a2e-bb30-4671607df288",
        "colab": {
          "base_uri": "https://localhost:8080/",
          "height": 1000
        }
      },
      "outputs": [
        {
          "output_type": "stream",
          "name": "stderr",
          "text": [
            "INFO:pyneuroml.pynml:Executing: (java -Xmx400M  -jar  \"/usr/local/lib/python3.7/dist-packages/pyneuroml/lib/jNeuroML-0.12.0-jar-with-dependencies.jar\" -validate \"olm.cell.nml\" ) in directory: .\n"
          ]
        },
        {
          "output_type": "stream",
          "name": "stdout",
          "text": [
            "*******************************************************\n",
            "* Cell: olm\n",
            "* Notes: None\n",
            "* Segments: 0\n",
            "* SegmentGroups: 4\n",
            "*******************************************************\n",
            "Cell -- Cell with  **segment** s specified in a  **morphology**  element along with details on its  **biophysicalProperties** . NOTE: this can only be correctly simulated using jLEMS when there is a single segment in the cell, and **v**  of this cell represents the membrane potential in that isopotential segment.\n",
            "\n",
            "Please see the NeuroML standard schema documentation at https://docs.neuroml.org/Userdocs/NeuroMLv2.html for more information.\n",
            "\n",
            "Valid members for Cell are:\n",
            "* metaid (class: MetaId, Optional)\n",
            "* notes (class: xs:string, Optional)\n",
            "* properties (class: Property, Optional)\n",
            "* annotation (class: Annotation, Optional)\n",
            "* morphology (class: Morphology, Optional)\n",
            "\t* Contents ('ids'/<objects>): 'morphology'\n",
            "\n",
            "* morphology_attr (class: NmlId, Optional)\n",
            "* biophysical_properties_attr (class: NmlId, Optional)\n",
            "* id (class: NmlId, Required)\n",
            "\t* Contents ('ids'/<objects>): olm\n",
            "\n",
            "* neuro_lex_id (class: NeuroLexId, Optional)\n",
            "\t* Contents ('ids'/<objects>): NLXCELL:091206\n",
            "\n",
            "* biophysical_properties (class: BiophysicalProperties, Optional)\n",
            "\t* Contents ('ids'/<objects>): 'biophys'\n",
            "\n",
            "\n",
            "Morphology -- The collection of  **segment** s which specify the 3D structure of the cell, along with a number of  **segmentGroup** s\n",
            "\n",
            "Please see the NeuroML standard schema documentation at https://docs.neuroml.org/Userdocs/NeuroMLv2.html for more information.\n",
            "\n",
            "Valid members for Morphology are:\n",
            "* metaid (class: MetaId, Optional)\n",
            "* notes (class: xs:string, Optional)\n",
            "* properties (class: Property, Optional)\n",
            "* segments (class: Segment, Required)\n",
            "* annotation (class: Annotation, Optional)\n",
            "* segment_groups (class: SegmentGroup, Optional)\n",
            "\t* Contents ('ids'/<objects>): ['all', 'soma_group', 'axon_group', 'dendrite_group']\n",
            "\n",
            "* id (class: NmlId, Required)\n",
            "\t* Contents ('ids'/<objects>): morphology\n",
            "\n",
            "\n"
          ]
        },
        {
          "output_type": "stream",
          "name": "stderr",
          "text": [
            "INFO:pyneuroml.pynml:Command completed. Output: \n",
            "  jNeuroML >>   jNeuroML v0.12.0\n",
            "  jNeuroML >>  Validating: /content/olm.cell.nml\n",
            "  jNeuroML >>  Valid against schema and all tests\n",
            "  jNeuroML >>  No warnings\n",
            "  jNeuroML >>  \n",
            "  jNeuroML >>  Validated 1 files: All valid and no warnings\n",
            "  jNeuroML >>  \n",
            "  jNeuroML >>  \n",
            "INFO:pyneuroml.pynml:Loading NeuroML2 file: olm.cell.nml\n",
            "INFO:pyneuroml.pynml:Including included files (included already: [])\n",
            "INFO:pyneuroml.pynml:Loading NeuroML2 file: /content/ca1/NeuroML2/channels/leak_chan.channel.nml\n",
            "INFO:pyneuroml.pynml:Including included files (included already: [])\n",
            "INFO:pyneuroml.pynml:Loading NeuroML2 file: /content/ca1/NeuroML2/channels/HCNolm.channel.nml\n",
            "INFO:pyneuroml.pynml:Including included files (included already: ['/content/ca1/NeuroML2/channels/leak_chan.channel.nml'])\n",
            "INFO:pyneuroml.pynml:Loading NeuroML2 file: /content/ca1/NeuroML2/channels/Kdrfast.channel.nml\n",
            "INFO:pyneuroml.pynml:Including included files (included already: ['/content/ca1/NeuroML2/channels/leak_chan.channel.nml', '/content/ca1/NeuroML2/channels/HCNolm.channel.nml'])\n",
            "INFO:pyneuroml.pynml:Loading NeuroML2 file: /content/ca1/NeuroML2/channels/KvAolm.channel.nml\n",
            "INFO:pyneuroml.pynml:Including included files (included already: ['/content/ca1/NeuroML2/channels/leak_chan.channel.nml', '/content/ca1/NeuroML2/channels/HCNolm.channel.nml', '/content/ca1/NeuroML2/channels/Kdrfast.channel.nml'])\n",
            "INFO:pyneuroml.pynml:Loading NeuroML2 file: /content/ca1/NeuroML2/channels/Nav.channel.nml\n",
            "INFO:pyneuroml.pynml:Including included files (included already: ['/content/ca1/NeuroML2/channels/leak_chan.channel.nml', '/content/ca1/NeuroML2/channels/HCNolm.channel.nml', '/content/ca1/NeuroML2/channels/Kdrfast.channel.nml', '/content/ca1/NeuroML2/channels/KvAolm.channel.nml'])\n",
            "INFO:pyneuroml.pynml:Executing: (java -Xmx400M  -jar  \"/usr/local/lib/python3.7/dist-packages/pyneuroml/lib/jNeuroML-0.12.0-jar-with-dependencies.jar\" -validate \"olm_example_net.nml\" ) in directory: .\n"
          ]
        },
        {
          "output_type": "stream",
          "name": "stdout",
          "text": [
            "Saved image on plane xy to /content/olm.cell.xy.png of plot: 2D plot of olm from olm.cell.nml\n"
          ]
        },
        {
          "output_type": "stream",
          "name": "stderr",
          "text": [
            "INFO:pyneuroml.pynml:Command completed. Output: \n",
            "  jNeuroML >>   jNeuroML v0.12.0\n",
            "  jNeuroML >>  Validating: /content/olm_example_net.nml\n",
            "  jNeuroML >>  Valid against schema and all tests\n",
            "  jNeuroML >>  No warnings\n",
            "  jNeuroML >>  \n",
            "  jNeuroML >>  Validated 1 files: All valid and no warnings\n",
            "  jNeuroML >>  \n",
            "  jNeuroML >>  \n",
            "INFO:pyneuroml.pynml:Loading NeuroML2 file: /content/olm_example_net.nml\n",
            "INFO:pyneuroml.pynml:Loading NeuroML2 file: /content/olm.cell.nml\n",
            "INFO:pyneuroml.pynml:Loading NeuroML2 file: /content/ca1/NeuroML2/channels/leak_chan.channel.nml\n",
            "INFO:pyneuroml.pynml:Loading NeuroML2 file: /content/ca1/NeuroML2/channels/HCNolm.channel.nml\n",
            "INFO:pyneuroml.pynml:Loading NeuroML2 file: /content/ca1/NeuroML2/channels/Kdrfast.channel.nml\n",
            "INFO:pyneuroml.pynml:Loading NeuroML2 file: /content/ca1/NeuroML2/channels/KvAolm.channel.nml\n",
            "INFO:pyneuroml.pynml:Loading NeuroML2 file: /content/ca1/NeuroML2/channels/Nav.channel.nml\n",
            "INFO:pyneuroml.pynml:Loading LEMS file: LEMS_olm_example_sim.xml and running with jNeuroML_NEURON\n",
            "INFO:pyneuroml.pynml:Executing: (java -Xmx2G  -Djava.awt.headless=true -jar  \"/usr/local/lib/python3.7/dist-packages/pyneuroml/lib/jNeuroML-0.12.0-jar-with-dependencies.jar\"  \"LEMS_olm_example_sim.xml\"  -neuron -run -compile -nogui -I '') in directory: .\n",
            "INFO:pyneuroml.pynml:Command completed. Output: \n",
            "  jNeuroML >>   jNeuroML v0.12.0\n",
            "  jNeuroML >>  (INFO) Reading from: /content/LEMS_olm_example_sim.xml\n",
            "  jNeuroML >>  (INFO) Creating NeuronWriter to output files to /content\n",
            "  jNeuroML >>  (INFO) Adding simulation Component(id=olm_example_sim type=Simulation) of network/component: single_olm_cell_network (Type: network)\n",
            "  jNeuroML >>  (INFO) Adding population: pop0\n",
            "  jNeuroML >>  (INFO) -- Writing to hoc: /content/olm.hoc\n",
            "  jNeuroML >>  (INFO) -- Writing to mod: /content/leak_chan.mod\n",
            "  jNeuroML >>  (INFO) -- Writing to mod: /content/HCNolm.mod\n",
            "  jNeuroML >>  (INFO) -- Writing to mod: /content/Kdrfast.mod\n",
            "  jNeuroML >>  (INFO) -- Writing to mod: /content/KvAolm.mod\n",
            "  jNeuroML >>  (INFO) -- Writing to mod: /content/Nav.mod\n",
            "  jNeuroML >>  (INFO) Adding projections/connections...\n",
            "  jNeuroML >>  (INFO) -- Writing to mod: /content/pg_olm.mod\n",
            "  jNeuroML >>  (INFO) Trying to compile mods in: /content\n",
            "  jNeuroML >>  (INFO) Going to compile the mod files in: /content, forcing recompile: false\n",
            "  jNeuroML >>  (INFO) Parent dir: /content\n",
            "  jNeuroML >>  (INFO) Assuming *nix environment...\n",
            "  jNeuroML >>  (INFO) Name of file to be created: /content/x86_64/libnrnmech.la\n",
            "  jNeuroML >>  (INFO) Name of file to be created: /content/x86_64/libnrnmech.so\n",
            "  jNeuroML >>  (INFO) Name of file to be created: /content/x86_64/.libs/libnrnmech.so\n",
            "  jNeuroML >>  (INFO) commandToExecute: /usr/local/bin/nrnivmodl\n",
            "  jNeuroML >>  (INFO) Trying to delete any previously created files: \n",
            "  jNeuroML >>  (INFO) /content/x86_64/libnrnmech.la\n",
            "  jNeuroML >>  (INFO) /content/x86_64/libnrnmech.so\n",
            "  jNeuroML >>  (INFO) /content/x86_64/.libs/libnrnmech.so\n",
            "  jNeuroML >>  (INFO) directoryToExecuteIn: /content\n",
            "  jNeuroML >>  (INFO) NMODL Compile >> > /content\n",
            "  jNeuroML >>  (INFO) NMODL Compile >> > Mod files: \"./HCNolm.mod\" \"./Kdrfast.mod\" \"./KvAolm.mod\" \"./leak_chan.mod\" \"./Nav.mod\" \"./pg_olm.mod\"\n",
            "  jNeuroML >>  (INFO) NMODL Compile >> > \n",
            "  jNeuroML >>  (INFO) NMODL Compile >> > Creating 'x86_64' directory for .o files.\n",
            "  jNeuroML >>  (INFO) NMODL Compile >> > \n",
            "  jNeuroML >>  (INFO) NMODL Compile >> >  -> \u001b[32mCompiling\u001b[0m mod_func.cpp\n",
            "  jNeuroML >>  (INFO) NMODL Compile >> >  -> \u001b[32mNMODL\u001b[0m ../HCNolm.mod\n",
            "  jNeuroML >>  (INFO) NMODL Compile >> >  -> \u001b[32mNMODL\u001b[0m ../KvAolm.mod\n",
            "  jNeuroML >>  (INFO) NMODL Compile >> >  -> \u001b[32mNMODL\u001b[0m ../Kdrfast.mod\n",
            "  jNeuroML >>  (INFO) NMODL Error   >> > Translating KvAolm.mod into /content/x86_64/KvAolm.c\n",
            "  jNeuroML >>  (INFO) NMODL Error   >> > Translating Kdrfast.mod into /content/x86_64/Kdrfast.c\n",
            "  jNeuroML >>  (INFO) NMODL Error   >> > Thread Safe\n",
            "  jNeuroML >>  (INFO) NMODL Error   >> > Translating HCNolm.mod into /content/x86_64/HCNolm.c\n",
            "  jNeuroML >>  (INFO) NMODL Error   >> > Thread Safe\n",
            "  jNeuroML >>  (INFO) NMODL Error   >> > Thread Safe\n",
            "  jNeuroML >>  (INFO) NMODL Compile >> >  -> \u001b[32mNMODL\u001b[0m ../leak_chan.mod\n",
            "  jNeuroML >>  (INFO) NMODL Compile >> >  -> \u001b[32mNMODL\u001b[0m ../Nav.mod\n",
            "  jNeuroML >>  (INFO) NMODL Compile >> >  -> \u001b[32mNMODL\u001b[0m ../pg_olm.mod\n",
            "  jNeuroML >>  (INFO) NMODL Error   >> > Translating pg_olm.mod into /content/x86_64/pg_olm.c\n",
            "  jNeuroML >>  (INFO) NMODL Error   >> > Thread Safe\n",
            "  jNeuroML >>  (INFO) NMODL Error   >> > Translating leak_chan.mod into /content/x86_64/leak_chan.c\n",
            "  jNeuroML >>  (INFO) NMODL Error   >> > Thread Safe\n",
            "  jNeuroML >>  (INFO) NMODL Error   >> > Translating Nav.mod into /content/x86_64/Nav.c\n",
            "  jNeuroML >>  (INFO) NMODL Compile >> >  -> \u001b[32mCompiling\u001b[0m HCNolm.c\n",
            "  jNeuroML >>  (INFO) NMODL Compile >> >  -> \u001b[32mCompiling\u001b[0m Kdrfast.c\n",
            "  jNeuroML >>  (INFO) NMODL Error   >> > Thread Safe\n",
            "  jNeuroML >>  (INFO) NMODL Compile >> >  -> \u001b[32mCompiling\u001b[0m KvAolm.c\n",
            "  jNeuroML >>  (INFO) NMODL Compile >> >  -> \u001b[32mCompiling\u001b[0m leak_chan.c\n",
            "  jNeuroML >>  (INFO) NMODL Compile >> >  -> \u001b[32mCompiling\u001b[0m Nav.c\n",
            "  jNeuroML >>  (INFO) NMODL Compile >> >  -> \u001b[32mCompiling\u001b[0m pg_olm.c\n",
            "  jNeuroML >>  (INFO) NMODL Compile >> >  => \u001b[32mLINKING\u001b[0m shared library ./libnrnmech.so\n",
            "  jNeuroML >>  (INFO) NMODL Compile >> >  => \u001b[32mLINKING\u001b[0m executable ./special LDFLAGS are:    -pthread\n",
            "  jNeuroML >>  (INFO) NMODL Compile >> > Successfully created x86_64/special\n",
            "  jNeuroML >>  (INFO) Executed command /usr/local/bin/nrnivmodl\n",
            "  jNeuroML >>  (INFO) Verifying mod file compilation: looking for file: /content/x86_64/libnrnmech.la\n",
            "  jNeuroML >>  (INFO) /content/x86_64/libnrnmech.la not found.\n",
            "  jNeuroML >>  (INFO) Verifying mod file compilation: looking for file: /content/x86_64/libnrnmech.so\n",
            "  jNeuroML >>  (INFO) /content/x86_64/libnrnmech.so found. Compilation successful.\n",
            "  jNeuroML >>  (INFO) Success in compiling mods: true\n",
            "  jNeuroML >>  (INFO) Have successfully executed command: python /content/LEMS_olm_example_sim_nrn.py\n",
            "  jNeuroML >>  (INFO) NRN Error  >>> Warning: no DISPLAY environment variable.\n",
            "  jNeuroML >>  (INFO) NRN Error  >>> --No graphics will be displayed.\n",
            "  jNeuroML >>  (INFO) NRN Output >>> \n",
            "  jNeuroML >>  (INFO) NRN Output >>>     Starting simulation in NEURON of 600ms generated from NeuroML2 model...\n",
            "  jNeuroML >>  (INFO) NRN Output >>> \n",
            "  jNeuroML >>  (INFO) NRN Output >>> Population pop0 contains 1 instance(s) of component: olm of type: cell\n",
            "  jNeuroML >>  (INFO) NRN Output >>> \t1 \n",
            "  jNeuroML >>  (INFO) NRN Output >>> Setting up the network to simulate took 0.004811 seconds\n",
            "  jNeuroML >>  (INFO) NRN Output >>> Running a simulation of 600.0ms (dt = 0.01ms; seed=123)\n",
            "  jNeuroML >>  (INFO) NRN Output >>> Finished NEURON simulation in 0.392717 seconds (0.006545 mins)...\n",
            "  jNeuroML >>  (INFO) NRN Output >>> Saving results at t=599.9999999995268...\n",
            "  jNeuroML >>  (INFO) NRN Output >>> Saved data to: time.dat\n",
            "  jNeuroML >>  (INFO) NRN Output >>> Saved data to: olm_example_sim.dat\n",
            "  jNeuroML >>  (INFO) NRN Output >>> Finished saving results in 0.400723 seconds\n",
            "  jNeuroML >>  (INFO) NRN Output >>> Done\n",
            "  jNeuroML >>  (INFO) Exit value for running NEURON: 0\n",
            "  jNeuroML >>  \n",
            "INFO:pyneuroml.plot.Plot:Generating plot: Membrane potential (soma seg 0)\n",
            "INFO:pyneuroml.plot.Plot:Saving image to /content/olm_example_sim_seg0_soma0-v.png of plot: Membrane potential (soma seg 0)\n",
            "INFO:pyneuroml.plot.Plot:Saved image to olm_example_sim_seg0_soma0-v.png of plot: Membrane potential (soma seg 0)\n",
            "INFO:pyneuroml.plot.Plot:Generating plot: Membrane potential (soma seg 1)\n",
            "INFO:pyneuroml.plot.Plot:Saving image to /content/olm_example_sim_seg1_soma0-v.png of plot: Membrane potential (soma seg 1)\n",
            "INFO:pyneuroml.plot.Plot:Saved image to olm_example_sim_seg1_soma0-v.png of plot: Membrane potential (soma seg 1)\n",
            "INFO:pyneuroml.plot.Plot:Generating plot: Membrane potential (axon seg 0)\n",
            "INFO:pyneuroml.plot.Plot:Saving image to /content/olm_example_sim_seg0_axon0-v.png of plot: Membrane potential (axon seg 0)\n",
            "INFO:pyneuroml.plot.Plot:Saved image to olm_example_sim_seg0_axon0-v.png of plot: Membrane potential (axon seg 0)\n",
            "INFO:pyneuroml.plot.Plot:Generating plot: Membrane potential (axon seg 1)\n",
            "INFO:pyneuroml.plot.Plot:Saving image to /content/olm_example_sim_seg1_axon0-v.png of plot: Membrane potential (axon seg 1)\n",
            "INFO:pyneuroml.plot.Plot:Saved image to olm_example_sim_seg1_axon0-v.png of plot: Membrane potential (axon seg 1)\n"
          ]
        },
        {
          "output_type": "display_data",
          "data": {
            "text/plain": [
              "<Figure size 432x288 with 1 Axes>"
            ],
            "image/png": "[encoded data removed]"
          },
          "metadata": {
            "needs_background": "light"
          }
        },
        {
          "output_type": "display_data",
          "data": {
            "text/plain": [
              "<Figure size 432x288 with 1 Axes>"
            ],
            "image/png": "[encoded data removed]"
          },
          "metadata": {
            "needs_background": "light"
          }
        },
        {
          "output_type": "display_data",
          "data": {
            "text/plain": [
              "<Figure size 432x288 with 1 Axes>"
            ],
            "image/png": "[encoded data removed]"
          },
          "metadata": {
            "needs_background": "light"
          }
        },
        {
          "output_type": "display_data",
          "data": {
            "text/plain": [
              "<Figure size 432x288 with 1 Axes>"
            ],
            "image/png": "[encoded data removed]"
          },
          "metadata": {
            "needs_background": "light"
          }
        },
        {
          "output_type": "display_data",
          "data": {
            "text/plain": [
              "<Figure size 432x288 with 1 Axes>"
            ],
            "image/png": "[encoded data removed]"
          },
          "metadata": {
            "needs_background": "light"
          }
        }
      ],
      "source": [
        "if __name__ == \"__main__\":\n",
        "    main()"
      ]
    },
    {
      "cell_type": "code",
      "source": [],
      "metadata": {
        "id": "mHAP0pdK-fQ5"
      },
      "execution_count": null,
      "outputs": []
    }
  ],
  "metadata": {
    "kernelspec": {
      "display_name": "Python 3 (ipykernel)",
      "language": "python",
      "name": "python3"
    },
    "language_info": {
      "codemirror_mode": {
        "name": "ipython",
        "version": 3
      },
      "file_extension": ".py",
      "mimetype": "text/x-python",
      "name": "python",
      "nbconvert_exporter": "python",
      "pygments_lexer": "ipython3",
      "version": "3.10.7"
    },
    "colab": {
      "provenance": []
    }
  },
  "nbformat": 4,
  "nbformat_minor": 0
}