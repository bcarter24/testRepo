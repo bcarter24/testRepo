{
  "cells": [
    {
      "cell_type": "code",
      "source": [
        "#Install packages\n",
        "\n",
        "! pip install transformers datasets\n",
        "! pip install torch\n",
        "! pip install tensorflow\n",
        "! pip install tika\n",
        "! pip install nltk\n",
        "\n",
        "from transformers import pipeline\n",
        "import os\n",
        "import re\n",
        "import math\n",
        "import nltk\n",
        "from nltk.tokenize import sent_tokenize\n",
        "from nltk.tokenize import word_tokenize\n",
        "\n",
        "nltk.download('all')"
      ],
      "metadata": {
        "id": "j5mTjVSyGBrY"
      },
      "execution_count": null,
      "outputs": []
    },
    {
      "cell_type": "markdown",
      "source": [
        "Clone GitHub repo with all of the data"
      ],
      "metadata": {
        "id": "AI_TmykUL0m1"
      }
    },
    {
      "cell_type": "code",
      "source": [
        "!git clone https://github.com/bcarter24/testRepo.git"
      ],
      "metadata": {
        "id": "Aq8LbmzYI9nK",
        "outputId": "bf2dbebb-680d-4a76-8382-2d6d4b912a38",
        "colab": {
          "base_uri": "https://localhost:8080/"
        }
      },
      "execution_count": 25,
      "outputs": [
        {
          "output_type": "stream",
          "name": "stdout",
          "text": [
            "Cloning into 'testRepo'...\n",
            "remote: Enumerating objects: 302, done.\u001b[K\n",
            "remote: Counting objects: 100% (302/302), done.\u001b[K\n",
            "remote: Compressing objects: 100% (290/290), done.\u001b[K\n",
            "remote: Total 302 (delta 9), reused 299 (delta 9), pack-reused 0\u001b[K\n",
            "Receiving objects: 100% (302/302), 5.95 MiB | 18.75 MiB/s, done.\n",
            "Resolving deltas: 100% (9/9), done.\n"
          ]
        }
      ]
    },
    {
      "cell_type": "markdown",
      "source": [
        "Move to data directory"
      ],
      "metadata": {
        "id": "JdT4L-zbL6fk"
      }
    },
    {
      "cell_type": "code",
      "source": [
        "%cd /content/testRepo/data/US\\ Federal\\ Code\\ of\\ Law/Cleaner_grouped/"
      ],
      "metadata": {
        "id": "u7-3Wd_BIMk7",
        "outputId": "8ea7f547-7a1e-4967-c858-334fc27a28df",
        "colab": {
          "base_uri": "https://localhost:8080/"
        }
      },
      "execution_count": 26,
      "outputs": [
        {
          "output_type": "stream",
          "name": "stdout",
          "text": [
            "/content/testRepo/data/US Federal Code of Law/Cleaner_grouped\n"
          ]
        }
      ]
    },
    {
      "cell_type": "code",
      "source": [
        "directory1 = \"./Title18_Chapter44/\"\n",
        "directory2 = \"./Title26_Chapter53/\"\n",
        "\n",
        "document_array = []\n",
        "\n",
        "%ls\n",
        "files_in_direc1 = os.listdir(directory1)\n",
        "print(files_in_direc1)\n",
        "for file in files_in_direc1:\n",
        "  file_handle = open(file, 'r')\n",
        "  this_doc = str( file_handle.read())\n",
        "  file_handle.close()\n",
        "  sentence_array = word_tokenize(this_doc,language='english', preserve_line=True)\n",
        "  document_array.append(sentence_array)\n",
        "  print('length of sentence array is: ' + str(len(sentence_array)))\n",
        "  print(sentence_array)\n",
        "  print('current length of Doc array is: ' + str(len(document_array)))"
      ],
      "metadata": {
        "id": "RHKiWS2NJ3al",
        "outputId": "8a2fc960-059c-4fdc-e8e3-001ddc114930",
        "colab": {
          "base_uri": "https://localhost:8080/",
          "height": 393
        }
      },
      "execution_count": 28,
      "outputs": [
        {
          "output_type": "stream",
          "name": "stdout",
          "text": [
            " \u001b[0m\u001b[01;34mtestRepo\u001b[0m/\n",
            " \u001b[01;34mTitle18_Chapter44\u001b[0m/\n",
            "'Title18_Chapter44_(27 CFR Regulation 478).pdf'\n",
            "'Title18_Chapter44_(27 CFR Regulation 478).txt'\n",
            " \u001b[01;34mTitle26_Chapter53\u001b[0m/\n",
            "'Title26_Chapter53_(27 CFR Regulation 479).pdf'\n",
            "'Title26_Chapter53_(27 CFR Regulation 479).txt'\n",
            "['Title18_Chapter44_sections41-60_license.txt', 'Title18_Chapter44_sections121-134_records.txt', 'Title18_Chapter44_sections21-40_administrative.txt', 'Title18_Chapter44_sections71-78_licenseProceedings.txt', 'Title18_Chapter44_sections91-104_business.txt', 'Title18_Chapter44_sections141-153_exemptionsSeizuresForfeitures.txt', 'Title18_Chapter44_sections11-12_definitions.txt', 'Title18_Chapter44_sections171_exportation.txt', 'Title18_Chapter44_sections111-120_Importation.txt']\n"
          ]
        },
        {
          "output_type": "error",
          "ename": "FileNotFoundError",
          "evalue": "ignored",
          "traceback": [
            "\u001b[0;31m---------------------------------------------------------------------------\u001b[0m",
            "\u001b[0;31mFileNotFoundError\u001b[0m                         Traceback (most recent call last)",
            "\u001b[0;32m<ipython-input-28-fd001e525759>\u001b[0m in \u001b[0;36m<module>\u001b[0;34m\u001b[0m\n\u001b[1;32m      9\u001b[0m \u001b[0mprint\u001b[0m\u001b[0;34m(\u001b[0m\u001b[0mfiles_in_direc1\u001b[0m\u001b[0;34m)\u001b[0m\u001b[0;34m\u001b[0m\u001b[0;34m\u001b[0m\u001b[0m\n\u001b[1;32m     10\u001b[0m \u001b[0;32mfor\u001b[0m \u001b[0mfile\u001b[0m \u001b[0;32min\u001b[0m \u001b[0mfiles_in_direc1\u001b[0m\u001b[0;34m:\u001b[0m\u001b[0;34m\u001b[0m\u001b[0;34m\u001b[0m\u001b[0m\n\u001b[0;32m---> 11\u001b[0;31m   \u001b[0mfile_handle\u001b[0m \u001b[0;34m=\u001b[0m \u001b[0mopen\u001b[0m\u001b[0;34m(\u001b[0m\u001b[0mfile\u001b[0m\u001b[0;34m,\u001b[0m \u001b[0;34m'r'\u001b[0m\u001b[0;34m)\u001b[0m\u001b[0;34m\u001b[0m\u001b[0;34m\u001b[0m\u001b[0m\n\u001b[0m\u001b[1;32m     12\u001b[0m   \u001b[0mthis_doc\u001b[0m \u001b[0;34m=\u001b[0m \u001b[0mstr\u001b[0m\u001b[0;34m(\u001b[0m \u001b[0mfile_handle\u001b[0m\u001b[0;34m.\u001b[0m\u001b[0mread\u001b[0m\u001b[0;34m(\u001b[0m\u001b[0;34m)\u001b[0m\u001b[0;34m)\u001b[0m\u001b[0;34m\u001b[0m\u001b[0;34m\u001b[0m\u001b[0m\n\u001b[1;32m     13\u001b[0m   \u001b[0mfile_handle\u001b[0m\u001b[0;34m.\u001b[0m\u001b[0mclose\u001b[0m\u001b[0;34m(\u001b[0m\u001b[0;34m)\u001b[0m\u001b[0;34m\u001b[0m\u001b[0;34m\u001b[0m\u001b[0m\n",
            "\u001b[0;31mFileNotFoundError\u001b[0m: [Errno 2] No such file or directory: 'Title18_Chapter44_sections41-60_license.txt'"
          ]
        }
      ]
    }
  ],
  "metadata": {
    "kernelspec": {
      "display_name": "Python 3 (ipykernel)",
      "language": "python",
      "name": "python3"
    },
    "language_info": {
      "codemirror_mode": {
        "name": "ipython",
        "version": 3
      },
      "file_extension": ".py",
      "mimetype": "text/x-python",
      "name": "python",
      "nbconvert_exporter": "python",
      "pygments_lexer": "ipython3",
      "version": "3.10.7"
    },
    "colab": {
      "provenance": []
    }
  },
  "nbformat": 4,
  "nbformat_minor": 0
}