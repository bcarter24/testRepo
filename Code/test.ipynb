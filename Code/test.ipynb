{
  "cells": [
    {
      "cell_type": "code",
      "source": [
        "#Install packages\n",
        "\n",
        "! pip install transformers datasets\n",
        "! pip install torch\n",
        "! pip install tensorflow\n",
        "! pip install tika\n",
        "! pip install nltk\n",
        "\n",
        "from transformers import pipeline\n",
        "import os\n",
        "import re\n",
        "import math\n",
        "import nltk\n",
        "from nltk.tokenize import sent_tokenize\n",
        "\n",
        "nltk.download('all')"
      ],
      "metadata": {
        "id": "j5mTjVSyGBrY"
      },
      "execution_count": null,
      "outputs": []
    },
    {
      "cell_type": "code",
      "source": [
        "!git clone https://github.com/bcarter24/testRepo.git"
      ],
      "metadata": {
        "id": "Aq8LbmzYI9nK",
        "outputId": "239a31c9-0747-4ab3-e33e-ac7ace28abf1",
        "colab": {
          "base_uri": "https://localhost:8080/"
        }
      },
      "execution_count": 7,
      "outputs": [
        {
          "output_type": "stream",
          "name": "stdout",
          "text": [
            "Cloning into 'testRepo'...\n",
            "remote: Enumerating objects: 298, done.\u001b[K\n",
            "remote: Counting objects: 100% (298/298), done.\u001b[K\n",
            "remote: Compressing objects: 100% (288/288), done.\u001b[K\n",
            "remote: Total 298 (delta 8), reused 295 (delta 8), pack-reused 0\u001b[K\n",
            "Receiving objects: 100% (298/298), 5.95 MiB | 27.20 MiB/s, done.\n",
            "Resolving deltas: 100% (8/8), done.\n"
          ]
        }
      ]
    },
    {
      "cell_type": "code",
      "source": [
        "%cd /content/testRepo/data\n",
        "!mkdir tokenizedFiles"
      ],
      "metadata": {
        "id": "u7-3Wd_BIMk7",
        "outputId": "fffe0221-3db6-4c3f-ae37-833555872eb7",
        "colab": {
          "base_uri": "https://localhost:8080/"
        }
      },
      "execution_count": 23,
      "outputs": [
        {
          "output_type": "stream",
          "name": "stdout",
          "text": [
            "\u001b[0m\u001b[01;34m'ATF Rulings and Memos'\u001b[0m/  \u001b[01;34m'US Federal Code of Law'\u001b[0m/\n",
            "/content/testRepo/data\n",
            "\u001b[0m\u001b[01;34m'ATF Rulings and Memos'\u001b[0m/  \u001b[01;34m'US Federal Code of Law'\u001b[0m/\n"
          ]
        }
      ]
    },
    {
      "cell_type": "code",
      "source": [
        "#!mkdir tokenizedFiles\n",
        "%ls"
      ],
      "metadata": {
        "id": "RHKiWS2NJ3al",
        "outputId": "0e527a74-d395-4522-939c-46854df9ba7c",
        "colab": {
          "base_uri": "https://localhost:8080/"
        }
      },
      "execution_count": 17,
      "outputs": [
        {
          "output_type": "stream",
          "name": "stdout",
          "text": [
            "\u001b[0m\u001b[01;34mCode\u001b[0m/  \u001b[01;34mdata\u001b[0m/  LICENSE  \u001b[01;34mtokenizedFiles\u001b[0m/\n"
          ]
        }
      ]
    }
  ],
  "metadata": {
    "kernelspec": {
      "display_name": "Python 3 (ipykernel)",
      "language": "python",
      "name": "python3"
    },
    "language_info": {
      "codemirror_mode": {
        "name": "ipython",
        "version": 3
      },
      "file_extension": ".py",
      "mimetype": "text/x-python",
      "name": "python",
      "nbconvert_exporter": "python",
      "pygments_lexer": "ipython3",
      "version": "3.10.7"
    },
    "colab": {
      "provenance": []
    }
  },
  "nbformat": 4,
  "nbformat_minor": 0
}