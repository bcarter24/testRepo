{
  "cells": [
    {
      "cell_type": "markdown",
      "source": [
        "# Initial Install and such"
      ],
      "metadata": {
        "id": "2WxtrWX8--dR"
      }
    },
    {
      "cell_type": "code",
      "source": [
        "#Install packages\n",
        "\n",
        "! pip install transformers datasets\n",
        "! pip install torch\n",
        "! pip install tensorflow\n",
        "! pip install tika\n",
        "! pip install nltk\n",
        "\n",
        "from transformers import pipeline\n",
        "import os\n",
        "import re\n",
        "import math\n",
        "import nltk\n",
        "from nltk.tokenize import sent_tokenize\n",
        "from nltk.tokenize import word_tokenize\n",
        "\n",
        "#nltk.download('all')"
      ],
      "metadata": {
        "id": "j5mTjVSyGBrY"
      },
      "execution_count": null,
      "outputs": []
    },
    {
      "cell_type": "markdown",
      "source": [
        "Clone GitHub repo with all of the data"
      ],
      "metadata": {
        "id": "AI_TmykUL0m1"
      }
    },
    {
      "cell_type": "code",
      "source": [
        "!git clone https://github.com/bcarter24/testRepo.git"
      ],
      "metadata": {
        "id": "Aq8LbmzYI9nK",
        "outputId": "dd4bc116-2f2a-4fd4-bfcd-df21809074a1",
        "colab": {
          "base_uri": "https://localhost:8080/"
        }
      },
      "execution_count": 2,
      "outputs": [
        {
          "output_type": "stream",
          "name": "stdout",
          "text": [
            "Cloning into 'testRepo'...\n",
            "remote: Enumerating objects: 340, done.\u001b[K\n",
            "remote: Counting objects: 100% (340/340), done.\u001b[K\n",
            "remote: Compressing objects: 100% (315/315), done.\u001b[K\n",
            "remote: Total 340 (delta 19), reused 335 (delta 17), pack-reused 0\u001b[K\n",
            "Receiving objects: 100% (340/340), 6.15 MiB | 23.00 MiB/s, done.\n",
            "Resolving deltas: 100% (19/19), done.\n"
          ]
        }
      ]
    },
    {
      "cell_type": "markdown",
      "source": [
        "Move to data directory"
      ],
      "metadata": {
        "id": "JdT4L-zbL6fk"
      }
    },
    {
      "cell_type": "code",
      "source": [
        "%cd /content/testRepo/data/US\\ Federal\\ Code\\ of\\ Law/Cleaner_ungrouped/"
      ],
      "metadata": {
        "id": "u7-3Wd_BIMk7",
        "outputId": "fc2e060b-134b-42e2-c6ca-cfa1d7df7e68",
        "colab": {
          "base_uri": "https://localhost:8080/"
        }
      },
      "execution_count": 3,
      "outputs": [
        {
          "output_type": "stream",
          "name": "stdout",
          "text": [
            "/content/testRepo/data/US Federal Code of Law/Cleaner_ungrouped\n"
          ]
        }
      ]
    },
    {
      "cell_type": "markdown",
      "source": [
        "# Read in corpus from US law documents"
      ],
      "metadata": {
        "id": "44P0fSSq_DWg"
      }
    },
    {
      "cell_type": "markdown",
      "source": [
        "in the data directory there are several stages of pre-processed data, here I am using the \"cleaned-ungrouped\" it is just segmented out chapters of the law from federal code, into smaller files so that it can be handled, some of the original was very messy before having it easier to manage in smaller files. it tokenized the input at first, but then I changed to a larger model and used their suggested tokenizer instead."
      ],
      "metadata": {
        "id": "KqgZUCza_lzn"
      }
    },
    {
      "cell_type": "code",
      "source": [
        "directory1 = \"./Title18_Chapter44/\"\n",
        "directory2 = \"./Title26_Chapter53/\"\n",
        "\n",
        "document_array = []\n",
        "biggestSentArr = 0\n",
        "secondLargest = 0\n",
        "thirdLargest = 0\n",
        "\n",
        "#enumerate files in the directory into list for directory 1\n",
        "files_in_direc1 = os.listdir(directory1)\n",
        "#print(files_in_direc1)\n",
        "for file in files_in_direc1:\n",
        "  #check if file is valid\n",
        "  if os.path.isfile(os.path.join(directory1, file)):\n",
        "    #open file to read\n",
        "    file_handle = open(os.path.join(directory1, file), 'r+')\n",
        "    this_doc = str( file_handle.read())\n",
        "    file_handle.close()\n",
        "    #get rid of section part at the beginning but not section references later on\n",
        "    #this_doc = re.sub(r\"§\\s478\\.\", \"\", this_doc)\n",
        "    #this_doc = re.sub(r\"§\", \"\", this_doc)\n",
        "    \n",
        "    #tokenize -- or dont because model changed\n",
        "    #sentence_array = word_tokenize(this_doc,language='english', preserve_line=True)\n",
        "    sentence_array = this_doc\n",
        "    document_array.append(sentence_array)\n",
        "    print(sentence_array)\n",
        "    print('length of sentence array is: ' + str(len(sentence_array)) + '\\n')\n",
        "    if len(sentence_array) > biggestSentArr :\n",
        "      thirdLargest = secondLargest\n",
        "      secondLargest = biggestSentArr\n",
        "      biggestSentArr = len(sentence_array)\n",
        "    #print('current length of Doc array is: ' + str(len(document_array)))\n",
        "\n",
        "print('\\nThere are ' + str(len(document_array)) + ' documents in the document_array')\n",
        "print('The largest Sentence Array so far has a size of ' + str(biggestSentArr) + ' characters.')\n",
        "print('The second largest Sentence Array so far has a size of ' + str(secondLargest) + ' characters.')\n",
        "print('The third largest Sentence Array so far has a size of ' + str(thirdLargest) + ' characters.\\n\\n\\n')\n",
        "\n",
        "\n",
        "#repeat for directory 2\n",
        "files_in_direc1 = os.listdir(directory2)\n",
        "#print(files_in_direc1)\n",
        "for file in files_in_direc1:\n",
        "  #check if file is valid\n",
        "  if os.path.isfile(os.path.join(directory2, file)):\n",
        "    #open file to read\n",
        "    file_handle = open(os.path.join(directory2, file), 'r+')\n",
        "    this_doc = str( file_handle.read())\n",
        "    file_handle.close()\n",
        "    #get rid of section part at the beginning but not section references later on\n",
        "    #this_doc = re.sub(r\"§\\s478\\.\", \"\", this_doc)\n",
        "    #this_doc = re.sub(r\"§\", \"\", this_doc)\n",
        "    \n",
        "    #tokenize\n",
        "    #sentence_array = word_tokenize(this_doc,language='english', preserve_line=True)\n",
        "    sentence_array = this_doc\n",
        "    document_array.append(sentence_array)\n",
        "    print(sentence_array)\n",
        "    print('length of sentence array is: ' + str(len(sentence_array)) + '\\n')\n",
        "    if len(sentence_array) > biggestSentArr :\n",
        "      thirdLargest = secondLargest\n",
        "      secondLargest = biggestSentArr\n",
        "      biggestSentArr = len(sentence_array)\n",
        "    #print('current length of Doc array is: ' + str(len(document_array)))\n",
        "\n",
        "print('\\nThere are ' + str(len(document_array)) + ' documents in the document_array')\n",
        "print('The largest Sentence Array so far has a size of ' + str(biggestSentArr) + ' characters.')\n",
        "print('The second largest Sentence Array so far has a size of ' + str(secondLargest) + ' characters.')\n",
        "print('The third largest Sentence Array so far has a size of ' + str(thirdLargest) + ' characters.\\n\\n\\n')"
      ],
      "metadata": {
        "id": "RHKiWS2NJ3al"
      },
      "execution_count": null,
      "outputs": []
    },
    {
      "cell_type": "markdown",
      "source": [
        "# Get test document (New ATF Memo)"
      ],
      "metadata": {
        "id": "nErX83yKBC6s"
      }
    },
    {
      "cell_type": "markdown",
      "source": [],
      "metadata": {
        "id": "vfmlfSliBLyj"
      }
    },
    {
      "cell_type": "code",
      "source": [
        "## Credit to Dr. Srivastava for this code section from sample code on github\n",
        "## located at (https://github.com/biplav-s/course-nl-f22/blob/main/sample-code/l1-wordcloud/FirstLook_ClassSyllabusData.ipynb)\n",
        "\n",
        "from tika import parser\n",
        "def convertPdf2TxtWithTika(in_pdf_file, out_text_file):\n",
        "  print (\"INFO: - reading file = \" + in_pdf_file)\n",
        "\n",
        "  raw = parser.from_file(in_pdf_file)\n",
        "  text = raw['content']\n",
        "  ## Post-processing explained at: \n",
        "  # https://medium.com/@justinboylantoomey/fast-text-extraction-with-python-and-tika-41ac34b0fe61\n",
        "  # Convert to string\n",
        "  text = str(text)\n",
        "  # Ensure text is utf-8 formatted\n",
        "  safe_text = text.encode('utf-8', errors='ignore')\n",
        "  # Escape any \\ issues\n",
        "  safe_text = str(safe_text).replace('\\\\', '\\\\\\\\').replace('\"', '\\\\\"')\n",
        "  \n",
        "  # Write out extracted content\n",
        "  text_pdf = open(out_text_file, 'w')\n",
        "  print (\"INFO: - writing file = \" + out_text_file)\n",
        "  text_pdf.write(text)\n",
        "  text_pdf.close()"
      ],
      "metadata": {
        "id": "YjQZIclvBMN7"
      },
      "execution_count": 5,
      "outputs": []
    },
    {
      "cell_type": "markdown",
      "source": [
        "If you would like to test a particular memo, the place it into the ATF/Testing folder and type in the file name in the code block below"
      ],
      "metadata": {
        "id": "tBjU6BerCH8C"
      }
    },
    {
      "cell_type": "code",
      "source": [
        "# convert the pdf report to text file\n",
        "# File needs to be in this folder\n",
        "directory = \"/content/testRepo/data/ATF/Testing/\"\n",
        "\n",
        "# Change the filename here to represent which file you would like to test\n",
        "fileName = \"open_letter_sc_ffls_080820.pdf\"\n",
        "\n",
        "in_file = os.path.join(directory, fileName)\n",
        "out_file = directory + fileName[:-4] + \".txt\"\n",
        "\n",
        "convertPdf2TxtWithTika(in_file, out_file)\n",
        "\n",
        "file_handle = open(out_file, 'r+')\n",
        "clean_up = str( file_handle.read())\n",
        "file_handle.close()\n",
        "\n",
        "Memo = re.sub(r\"\\s+\", \" \", clean_up)\n",
        "print(Memo)"
      ],
      "metadata": {
        "id": "_rhjACnoBXpj",
        "outputId": "f6e73fa3-8a3c-455b-b178-3dcd9213464b",
        "colab": {
          "base_uri": "https://localhost:8080/"
        }
      },
      "execution_count": 28,
      "outputs": [
        {
          "output_type": "stream",
          "name": "stdout",
          "text": [
            "INFO: - reading file = /content/testRepo/data/ATF/Testing/open_letter_sc_ffls_080820.pdf\n",
            "INFO: - writing file = /content/testRepo/data/ATF/Testing/open_letter_sc_ffls_080820.txt\n",
            " Microsoft Word - Open Letter South Carolina_Firearms Licensees-080820.docx U.S. Department of Justice Bureau of Alcohol, Tobacco, Firearms and Explosives Washington, DC 20226 August 20, 2008 Open Letter to South Carolina Federal Firearms Licensees The purpose of this letter is to advise you that the recent amendment to Section 16-23-30, Code of Laws of South Carolina, 1976, relating to the unlawful sale of handguns to certain person, so as to prohibit the sale of a handgun to persons under eighteen years of age rather than under twenty-one years of age has no effect on Federal firearms laws and regulations. Your obligations in the conduct of your business remain the same. Change in South Carolina Law: On April 2, 2008, South Carolina Governor Mark Sanford signed South Carolina House Bill 4364 into law. The new law, codified as an amendment to Section 16-23-30(A) of the 1976 Code of Laws of South Carolina, as amended, now provides as follows: Sale of handguns, prohibitions A. It is unlawful for a person to knowingly sell, offer to sell, deliver, lease, rent, barter, exchange, or transport for sale into this State any handgun to: 1. a person who has been convicted of a crime of violence in any court of the United States, the several states, commonwealths, territories, possessions, or the District of Columbia or who is a fugitive from justice or a habitual drunkard or a drug addict or who has been adjudicated mentally incompetent; 2. a person who is a member of a subversive organization; 3. a person under the age of eighteen, but this shall not apply to the issue of handguns to members of the Armed Forces of the United States, active or reserve, National Guard, State Militia, or R.O.T.C., when on duty or training or the temporary loan of handguns for instructions under the immediate supervision of a parent or adult instructor; or 4. a person who by order of a circuit judge or county court judge of this State has been adjudicated unfit to carry or possess a firearm, such adjudication to be made upon application by any police officer, or by any prosecuting officer of this State, or sua sponte, by the court, but a person who is the subject of such an application is entitled to reasonable notice and a proper hearing prior to any such adjudication. Please remember that Federal law makes it unlawful for a Federal firearms licensee to sell or deliver a handgun to any individual who the licensee knows or has reasonable cause to believe is less than twenty- one years of age. See, 18 U.S.C. § 922(b)(1). The new South Carolina law has no effect on Federal law. If you have any questions, you may contact the Charlotte Field Division at: 6701 Carmel Road Suite 200 Charlotte, North Carolina 28226 (704)716-1800 FAX (704)716-1801 As always, we thank you for your cooperation. Audrey Stucko Acting Assistant Director (Enforcement Programs and Services) \n"
          ]
        }
      ]
    },
    {
      "cell_type": "markdown",
      "source": [
        "# Test on Model"
      ],
      "metadata": {
        "id": "koXnDHllA7aN"
      }
    },
    {
      "cell_type": "markdown",
      "source": [
        "## Summarize the law sections\n",
        "Summarize each of the \"sections\" from a chapter in US Federal Law, each being stored as an element in an array. the array contains the entire corpus of data"
      ],
      "metadata": {
        "id": "_yif_HXE3esO"
      }
    },
    {
      "cell_type": "code",
      "source": [
        "# Model used: https://huggingface.co/ahmeddbahaa/mT5_multilingual_XLSum-finetuned-en-cnn\n",
        "\n",
        "from transformers import AutoTokenizer, AutoModelForSeq2SeqLM\n",
        "\n",
        "myTokenizer = AutoTokenizer.from_pretrained(\"ahmeddbahaa/mT5_multilingual_XLSum-finetuned-en-cnn\")\n",
        "myModel = AutoModelForSeq2SeqLM.from_pretrained(\"ahmeddbahaa/mT5_multilingual_XLSum-finetuned-en-cnn\")\n",
        "\n",
        "classy = pipeline(\"summarization\", model=myModel, tokenizer=myTokenizer, max_length=130, min_length=30, do_sample=False)"
      ],
      "metadata": {
        "colab": {
          "base_uri": "https://localhost:8080/",
          "height": 209,
          "referenced_widgets": [
            "cf4c072ea4f44d4bb788097227ec6c5e",
            "1f5d259c6d0f43369179f6cd33dd5d1b",
            "ad939ddf7b3f4a02909c2279198a45c4",
            "12044819017d49b28f8a9dfceb29e0bd",
            "8efe039c8bb245e1baec3d1a3449100f",
            "0afe55fa1a7e404db337db95db9e80d7",
            "6e5a58e4492d467eb8589b6740db2db0",
            "70a101ce5728433397f580579b610e90",
            "62f0f5b8936f40e1abf8b182facf6ccc",
            "76b63db7c13e4e20921e8a1ec43e997b",
            "c46621265cff49c7a2b46037d82d1a4a",
            "526f6f65912341c495548f85f84ed5a9",
            "f4ae7e8180d04dae8e0f29db26abb549",
            "c052b627a0f8492db55315e8ac1b2992",
            "2cbb3c2afe0548eca9f0cba7261c5124",
            "158878711e2f4b8284e47943c413432c",
            "e1a4cfcdd11f45c381c692f21ad63aa4",
            "68b9bff46bcb492784c8f3162850a124",
            "7d59318c04704f1e8f81da9583c3db5b",
            "2a401f4d566341a5b915264fc203312d",
            "c008359d8d254665bf5d123cba28bd71",
            "d640dfaca16b4ea49bba0366e2628eef",
            "3e86f55c0aea4064bfcc76f4275c3cd5",
            "7b7cca0e375948c7a37febf4ea7f5a11",
            "fffe4c1c70e24b8984b18c4fbf11c86c",
            "61afdc47b8d2474889da3419069318c7",
            "f15029d37cdb48deb09190af18bf11c7",
            "76f7e88a9c5e44c8937788c7bc732d48",
            "d2715e8b86cd4c46929f3b42fc7a9141",
            "45ae9382605f479490e6b4e79a2d60ce",
            "b06807bab9854a39b1a6a858133d8eee",
            "191b9463d6364476a79f318f04bb4660",
            "2b5772904530411fae50b6f5bba58c06",
            "48453f3e78be44088c982554526a35dc",
            "d01c3ca7d0b04dc49def954df9d1f43a",
            "a5a892ebbaa345359863b4bde2a12a12",
            "82cfd2b58c5043439052ebb3e241a2de",
            "b4f4db8ed7294dd48662b5ffd9a25c85",
            "ac5bbc3a1bf04fcc8eafdf62f19b41bd",
            "4fab013bfb144cc3a6dbf73be7284ca2",
            "e7dae60f66f14ee7877761184189c193",
            "bbd78f05efbb45c798b644a5eb795e8a",
            "18f79a7ec3274afc9f3684ad52e39588",
            "bd5b97d9b8304f89b6ff5e9664b16117",
            "17eed71855de4453a8c5649e2d7789a3",
            "9f7d654797e040f6a42f362bbcfae408",
            "1ae8a6a0347d4ba09d074371d76522f7",
            "f03974062b0c4db58e2a4ffdbb519069",
            "e1eee77afc804796b07c973d4918f366",
            "ca3eae4865d84e4f9e1e3b90466ca446",
            "31db4b1f68fe4132adf0ed6f00eb2824",
            "ef5a5da857d64a8cb140b870257f4acb",
            "6548a7a4948148ea9008a81c80b9205f",
            "ba2b2da4f9e542c69cb505d74d187c7c",
            "b2a83a97db2947eba3ef64f1a906de1b",
            "1d896b5b59794d1d97d1ea1191220d54",
            "c09094ed1a88471c89b6cec133a04a0c",
            "1f1117faa7b84d31900e9754ade43a1b",
            "5c94730b452848e1927f87f2f5d81156",
            "7f5855e7749a4d4c8edb10e275193540",
            "9e897c0a54f14232a5dc45536543fadf",
            "d102c78eb2e841dcb91fa3cdfbd26e43",
            "7b99e53e54374af59222eb6519656fdf",
            "2ee69b63a12a4193bf583e00cfbd4035",
            "b555b5e0c2ea484e9fd0f0141f50d518",
            "591f7923415747ca891263d26a9e9d4c"
          ]
        },
        "id": "Hx2Nae4pkHVV",
        "outputId": "05bf0c38-c029-4055-967a-f8396766e382"
      },
      "execution_count": 17,
      "outputs": [
        {
          "output_type": "display_data",
          "data": {
            "text/plain": [
              "Downloading:   0%|          | 0.00/426 [00:00<?, ?B/s]"
            ],
            "application/vnd.jupyter.widget-view+json": {
              "version_major": 2,
              "version_minor": 0,
              "model_id": "cf4c072ea4f44d4bb788097227ec6c5e"
            }
          },
          "metadata": {}
        },
        {
          "output_type": "display_data",
          "data": {
            "text/plain": [
              "Downloading:   0%|          | 0.00/4.31M [00:00<?, ?B/s]"
            ],
            "application/vnd.jupyter.widget-view+json": {
              "version_major": 2,
              "version_minor": 0,
              "model_id": "526f6f65912341c495548f85f84ed5a9"
            }
          },
          "metadata": {}
        },
        {
          "output_type": "display_data",
          "data": {
            "text/plain": [
              "Downloading:   0%|          | 0.00/16.3M [00:00<?, ?B/s]"
            ],
            "application/vnd.jupyter.widget-view+json": {
              "version_major": 2,
              "version_minor": 0,
              "model_id": "3e86f55c0aea4064bfcc76f4275c3cd5"
            }
          },
          "metadata": {}
        },
        {
          "output_type": "display_data",
          "data": {
            "text/plain": [
              "Downloading:   0%|          | 0.00/65.0 [00:00<?, ?B/s]"
            ],
            "application/vnd.jupyter.widget-view+json": {
              "version_major": 2,
              "version_minor": 0,
              "model_id": "48453f3e78be44088c982554526a35dc"
            }
          },
          "metadata": {}
        },
        {
          "output_type": "display_data",
          "data": {
            "text/plain": [
              "Downloading:   0%|          | 0.00/854 [00:00<?, ?B/s]"
            ],
            "application/vnd.jupyter.widget-view+json": {
              "version_major": 2,
              "version_minor": 0,
              "model_id": "17eed71855de4453a8c5649e2d7789a3"
            }
          },
          "metadata": {}
        },
        {
          "output_type": "display_data",
          "data": {
            "text/plain": [
              "Downloading:   0%|          | 0.00/2.33G [00:00<?, ?B/s]"
            ],
            "application/vnd.jupyter.widget-view+json": {
              "version_major": 2,
              "version_minor": 0,
              "model_id": "1d896b5b59794d1d97d1ea1191220d54"
            }
          },
          "metadata": {}
        }
      ]
    },
    {
      "cell_type": "code",
      "source": [
        "#takes forever\n",
        "#summary_array = classy(document_array)\n",
        "\n",
        "#shorter, just does first index for testing\n",
        "summary_array = classy(document_array[0:25])"
      ],
      "metadata": {
        "colab": {
          "base_uri": "https://localhost:8080/"
        },
        "id": "q8t1l4fx3YHn",
        "outputId": "f50e5235-7eac-40b4-ed2b-43b01a7c7d1d"
      },
      "execution_count": 168,
      "outputs": [
        {
          "output_type": "stream",
          "name": "stderr",
          "text": [
            "Your max_length is set to 130, but you input_length is only 101. You might consider decreasing max_length manually, e.g. summarizer('...', max_length=50)\n",
            "Your max_length is set to 130, but you input_length is only 80. You might consider decreasing max_length manually, e.g. summarizer('...', max_length=40)\n",
            "Your max_length is set to 130, but you input_length is only 33. You might consider decreasing max_length manually, e.g. summarizer('...', max_length=16)\n"
          ]
        }
      ]
    },
    {
      "cell_type": "code",
      "source": [
        "i = 0\n",
        "length = len(summary_array)\n",
        "while i < length :\n",
        "  print(summary_array[i])\n",
        "  i+=1"
      ],
      "metadata": {
        "colab": {
          "base_uri": "https://localhost:8080/"
        },
        "id": "kRmkpvmNvN23",
        "outputId": "a2a22e65-22d2-4ba0-eb6c-6d77ec8d65a8"
      },
      "execution_count": 169,
      "outputs": [
        {
          "output_type": "stream",
          "name": "stdout",
          "text": [
            "{'summary_text': 'Any person who intends to engage in business as a firearms or ammunition importer or manufacturer, or who has not previously been licensed under this part, must file an application for license, ATF Form 7 (Firearms), in duplicate . The application must be executed under the penalties of perjury and thePenalties imposed by 18 U.S.C. 924.'}\n",
            "{'summary_text': 'The term \"includes\" and \"including\" do not exclude other things in the same general class or are otherwise within the scope of the Act . Writers: A person who acquires, holds, or disposes of firearms as curios or relics.'}\n",
            "{'summary_text': 'Relief from disabilities incurred by indictment . If term of license expires, such importer, manufacturer, dealer must file application for renewal of his license in order to continue operations.'}\n",
            "{'summary_text': 'Director may issue notice of denial to the applicant . Notice shall set forth matters of fact and law relied upon in determining that the application should be denied.'}\n",
            "{'summary_text': 'No firearm barrel shall be imported or brought into the United States unless Director issues a permit authorizing the importation of the firearms . A permit will not be issued for the handgun not generally recognized as suitable for or readily adaptable to sporting purposes.'}\n",
            "{'summary_text': 'No person shall receive, possess, conceal, store, barter, sell, or dispose of stolen firearms and ammunition .'}\n",
            "{'summary_text': 'A research organization desiring such designation shall submit a letter application, in duplicate, to the Director . These organizations will not apply to selling or delivery of destructive devices, machine guns, short-barreled shotguns and rifles to any organization designated by the director to receive same.'}\n",
            "{'summary_text': 'A person who devotes time, attention, and labor to manufacturing firearms . The term shall include any person engaged in the business or occupation on a part-time basis.'}\n",
            "{'summary_text': 'The term \"frame or receiver\" means the part of a rifle, shotgun, or projectile weapon . The terms ‘frame’ and ‘receiver’ shall mean, in the case of an AK-type firearm that provides housing for the trigger mechanism and hammer (i.e., sear) or similar component designed to block or seal the breech prior to initiation of the firing sequence)'}\n",
            "{'summary_text': 'The Director shall determine in accordance with 18 U.S.C. 931(a)(2) whether a device is excluded from the definition of destructive device . A person who believes to obtain the determination would submit written request, in triplicate, to the Director.'}\n",
            "{'summary_text': 'The fee for obtaining a firearms license or ammunition license shall be $90 for 3 years . For an importer: Of destructive devices —$1,000 per year.'}\n",
            "{'summary_text': 'The Act makes it unlawful for any person knowingly to import or bring into the United States or any possession of certain firearms or ammunition . Section 822(a)(2) provides a limited exception for the transportation, shipment, receipt or importation of the firearm and am Munition in the U.S.'}\n",
            "{'summary_text': 'A pardon granted by the President of the U.S. regarding a Federal conviction shall remove any disability which otherwise would be imposed .'}\n",
            "{'summary_text': 'The fee submitted with an application for a license shall be refunded if that application is denied or withdrawn .'}\n",
            "{'summary_text': 'Manufacturers and importers must identify each firearm they manufacture or import within the period of time set forth in a section . The identification of firearms and armor piercing ammunition shall be used in the manufacturing process, according to the Department of Justice, at the time of the sale of an item or kit, or when it is assembled, and will not be removed until the end of August 2022.'}\n",
            "{'summary_text': 'Privately made firearms shall be recorded in accordance with a code of law . Each licensed importer will record the name, type, model, caliber or gauge of each firearm imported or otherwise acquired, and serial number of the person from whom it was received on the same day. The information required by this section will be entered in the proper record book not later than the seventh day following the date of an acquisition orother disposition.'}\n",
            "{'summary_text': 'ATF officers without having reasonable cause to believe a violation of the Act has occurred . They may enter during business hours the premises, including places of storage, of any licensed importer, or Licensed dealer, for the purpose of inspecting or examining the records, documents, ammunition and firearms referred to in this paragraph.'}\n",
            "{'summary_text': ' verify the identity and licensed status of the transferee prior to making the transaction . A transferor licensee who has certified information required by this section may sell or dispose of firearms without requiring a certification copy therefrom.'}\n",
            "{'summary_text': \"The Director of Industry Operations may authorize the information to be submitted in a manner other than that prescribed in the letter issued by the licensee . An alternate method of reporting is reasonably necessary and won't unduly hinder the effective administration of this part.\"}\n",
            "{'summary_text': 'Licenses issued under this part are not transferable . In the event of the lease, sale, or other transfer of operations, the successor must obtain the license required by the part prior to commencing such operations.'}\n",
            "{'summary_text': 'Each license shall bear a unique license number and such number may be assigned to the licensee to whom issued for so long as the licence maintains continuity of renewal in the same location . The Chief, Federal Firearmslicenses.com, will approve or the Director of Industry Operations will deny an application within the 60-day period beginning on the date the properly executed application was received.'}\n",
            "{'summary_text': \"ATF Form 7 requires licensed firearms dealer to certify that compatible secure gun storage or safety device will be available at any place . However, such licensee shall not be considered to be in violation of this requirement if a device is temporarily unavailable because of theft, casualty, loss, consumer sales, backorders from another manufacturer, or any other reason beyond the licence's control.\"}\n",
            "{'summary_text': 'The Director may authorize a person to transport in interstate or foreign commerce any destructive device, machine gun, short-barreled shotgun . The request shall contain: 1.A complete description and identification of the device to be transported. Authorization granted under this section does not carry or import relief from any other statutory or regulatory provision relating to firearms.'}\n",
            "{'summary_text': 'The designated place of the hearing shall be a location convenient to the aggrieved party . The position is being used to determine whether they are responsible for the political crisis in the U.S.'}\n",
            "{'summary_text': 'The Director may exempt certain armor piercing ammunition from the requirements of this section . Each request shall be executed under the penalties of perjury and contain a complete and accurate description of the am Munition which is primarily intended for sporting or industrial purposes.'}\n"
          ]
        }
      ]
    },
    {
      "cell_type": "markdown",
      "source": [
        "### Example output from the first five indices:\n",
        "\n",
        "{'summary_text': 'Any person who intends to engage in business as a firearms or ammunition importer or manufacturer, or who has not previously been licensed under this part, must file an application for license, ATF Form 7 (Firearms), in duplicate . The application must be executed under the penalties of perjury and thePenalties imposed by 18 U.S.C. 924.'}\n",
        "\n",
        "{'summary_text': 'The term \"includes\" and \"including\" do not exclude other things in the same general class or are otherwise within the scope of the Act . Writers: A person who acquires, holds, or disposes of firearms as curios or relics.'}\n",
        "\n",
        "{'summary_text': 'Relief from disabilities incurred by indictment . If term of license expires, such importer, manufacturer, dealer must file application for renewal of his license in order to continue operations.'}\n",
        "\n",
        "{'summary_text': 'Director may issue notice of denial to the applicant . Notice shall set forth matters of fact and law relied upon in determining that the application should be denied.'}\n",
        "\n",
        "{'summary_text': 'No firearm barrel shall be imported or brought into the United States unless Director issues a permit authorizing the importation of the firearms . A permit will not be issued for the handgun not generally recognized as suitable for or readily adaptable to sporting purposes.'}"
      ],
      "metadata": {
        "id": "jrDU24GnLHXX"
      }
    },
    {
      "cell_type": "markdown",
      "source": [
        "## Summarize the Memo"
      ],
      "metadata": {
        "id": "MmEcbHliJSkL"
      }
    },
    {
      "cell_type": "code",
      "source": [
        "memoSummary = classy(Memo)\n",
        "print(memoSummary)"
      ],
      "metadata": {
        "colab": {
          "base_uri": "https://localhost:8080/"
        },
        "id": "j473O_rwJUjz",
        "outputId": "6a717cf3-a476-4508-a634-f0112a3eea51"
      },
      "execution_count": 170,
      "outputs": [
        {
          "output_type": "stream",
          "name": "stdout",
          "text": [
            "[{'summary_text': 'The new South Carolina law has no effect on Federal firearms laws and regulations . It is unlawful for a person to knowingly sell, offer to sell and deliver, lease, rent, barter, exchange, or transport for sale into this State any handgun to someone under eighteen years of age rather than under twenty-one years - but this shall not apply to the issue of handguns to members of the Armed Forces or the R.O.T.C.'}]\n"
          ]
        }
      ]
    },
    {
      "cell_type": "markdown",
      "source": [
        "### Summary Text of the Memo for reference:\n",
        "'The new South Carolina law has no effect on Federal firearms laws and regulations . It is unlawful for a person to knowingly sell, offer to sell and deliver, lease, rent, barter, exchange, or transport for sale into this State any handgun to someone under eighteen years of age rather than under twenty-one years - but this shall not apply to the issue of handguns to members of the Armed Forces or the R.O.T.C.'\n",
        "\n",
        "\n",
        "\n",
        "\n",
        "This should now reference Title 18, chapter 44, section 922 as the applicable law that is related to this memo (section numbers are different in my corpus since i downloaded them from the ATF site isntead of the federal registry site)"
      ],
      "metadata": {
        "id": "MiXpU-m3KJgp"
      }
    },
    {
      "cell_type": "markdown",
      "source": [
        "# Compute similarity"
      ],
      "metadata": {
        "id": "UmUoOagYLAAI"
      }
    },
    {
      "cell_type": "code",
      "source": [
        "import pandas as pd\n",
        "import sklearn as sk\n",
        "import numpy as np\n",
        "import math\n",
        "from sklearn.feature_extraction.text import TfidfVectorizer\n",
        "from sklearn.metrics.pairwise import cosine_similarity"
      ],
      "metadata": {
        "id": "uWSDM4hULC5Y"
      },
      "execution_count": 171,
      "outputs": []
    },
    {
      "cell_type": "code",
      "source": [
        "# https://scikit-learn.org/stable/modules/generated/sklearn.feature_extraction.text.TfidfVectorizer.html\n",
        "\n",
        "#for reference this is how you get the text using the keys in the dict\n",
        "#print(summary_array[1]['summary_text'])\n",
        "\n",
        "# ATF memo is at 0 index of lower_sumArray\n",
        "lower_sumArray = []\n",
        "stringthing = (memoSummary[0].get('summary_text')).lower()\n",
        "lower_sumArray.append(stringthing)\n",
        "\n",
        "j = 0\n",
        "length = len(summary_array)\n",
        "while j < length :\n",
        "  thing = (summary_array[j].get('summary_text')).lower()\n",
        "  lower_sumArray.append(thing)\n",
        "  j+=1\n",
        "\n",
        "\n",
        "# taken from scikit learn website\n",
        "vectorizer = TfidfVectorizer()\n",
        "X = vectorizer.fit_transform(lower_sumArray)\n",
        "feature_names = vectorizer.get_feature_names_out()\n",
        "\n",
        "#print(cosine_similarity (X[0], X[1]))\n",
        "highestScore = 0\n",
        "secondHighest = 0\n",
        "thirdHighest = 0\n",
        "\n",
        "firstSec = 0\n",
        "secondSec = 0\n",
        "thirdSec = 0\n",
        "\n",
        "for i in range(1, len(lower_sumArray)):\n",
        "  similarityArr = cosine_similarity (X[0], X[i])\n",
        "  firstElem = similarityArr[0]\n",
        "  similarity = round(firstElem[0], 8)\n",
        "  if similarity > highestScore :\n",
        "    thirdHighest = secondHighest\n",
        "    secondHighest = highestScore\n",
        "    highestScore = similarity\n",
        "    thirdSec = secondSec\n",
        "    secondSec = firstSec\n",
        "    firstSec = i\n",
        "  print (\"ATF Memo with section \" + str(i) +\" is = \"  + str(similarity))"
      ],
      "metadata": {
        "colab": {
          "base_uri": "https://localhost:8080/"
        },
        "id": "b_7bgSZRN4k6",
        "outputId": "58e596a2-9491-4c16-a33e-48860ae13e3f"
      },
      "execution_count": 172,
      "outputs": [
        {
          "output_type": "stream",
          "name": "stdout",
          "text": [
            "ATF Memo with section 1 is = 0.18678634\n",
            "ATF Memo with section 2 is = 0.10939218\n",
            "ATF Memo with section 3 is = 0.05447504\n",
            "ATF Memo with section 4 is = 0.12108426\n",
            "ATF Memo with section 5 is = 0.17555682\n",
            "ATF Memo with section 6 is = 0.1940382\n",
            "ATF Memo with section 7 is = 0.14402102\n",
            "ATF Memo with section 8 is = 0.12758658\n",
            "ATF Memo with section 9 is = 0.14199856\n",
            "ATF Memo with section 10 is = 0.11062035\n",
            "ATF Memo with section 11 is = 0.15614477\n",
            "ATF Memo with section 12 is = 0.24032841\n",
            "ATF Memo with section 13 is = 0.08396025\n",
            "ATF Memo with section 14 is = 0.06863849\n",
            "ATF Memo with section 15 is = 0.1753383\n",
            "ATF Memo with section 16 is = 0.1562098\n",
            "ATF Memo with section 17 is = 0.16052546\n",
            "ATF Memo with section 18 is = 0.16255672\n",
            "ATF Memo with section 19 is = 0.13976699\n",
            "ATF Memo with section 20 is = 0.19483858\n",
            "ATF Memo with section 21 is = 0.14442691\n",
            "ATF Memo with section 22 is = 0.1030708\n",
            "ATF Memo with section 23 is = 0.19371188\n",
            "ATF Memo with section 24 is = 0.14509582\n",
            "ATF Memo with section 25 is = 0.15522563\n"
          ]
        }
      ]
    },
    {
      "cell_type": "markdown",
      "source": [
        "### Output for reference\n",
        "\n",
        "['18', '924', 'acquires', 'act', 'adaptable', 'ammunition', 'an', 'and', 'any', 'applicant', 'application', 'are', 'as', 'atf', 'authorizing', 'barrel', 'be', 'been', 'brought', 'business', 'by', 'class', 'continue', 'curios', 'dealer', 'denial', 'denied', 'determining', 'director', 'disabilities', 'disposes', 'do', 'duplicate', 'engage', 'exclude', 'executed', 'expires', 'fact', 'file', 'firearm', 'firearms', 'for', 'form', 'forth', 'from', 'general', 'generally', 'handgun', 'has', 'his', 'holds', 'if', 'importation', 'imported', 'importer', 'imposed', 'in', 'includes', 'including', 'incurred', 'indictment', 'intends', 'into', 'issue', 'issued', 'issues', 'law', 'license', 'licensed', 'manufacturer', 'matters', 'may', 'must', 'no', 'not', 'notice', 'of', 'operations', 'or', 'order', 'other', 'otherwise', 'part', 'penalties', 'perjury', 'permit', 'person', 'previously', 'purposes', 'readily', 'recognized', 'relics', 'relied', 'relief', 'renewal', 'same', 'scope', 'set', 'shall', 'should', 'sporting', 'states', 'such', 'suitable', 'term', 'that', 'the', 'thepenalties', 'things', 'this', 'to', 'under', 'united', 'unless', 'upon', 'who', 'will', 'within', 'writers']\n",
        "\n",
        "ATF Memo with section 0 is = [[1.]]\n",
        "ATF Memo with section 1 is = [[0.25817665]]\n",
        "ATF Memo with section 2 is = [[0.19790368]]\n",
        "ATF Memo with section 3 is = [[0.07950102]]\n",
        "ATF Memo with section 4 is = [[0.17588028]]\n",
        "ATF Memo with section 5 is = [[0.2415724]]"
      ],
      "metadata": {
        "id": "g3TBkj9JX9bW"
      }
    },
    {
      "cell_type": "markdown",
      "source": [
        "# The top 3 sections with the highest similarity to the Memo"
      ],
      "metadata": {
        "id": "p-GzqhKLlUuj"
      }
    },
    {
      "cell_type": "code",
      "source": [
        "print(\"The highest score was section \" + str(firstSec) + \" with similarity of: \" + str(highestScore))\n",
        "print(\"The second highest score was section \" + str(secondSec) + \" with similarity of: \" + str(secondHighest))\n",
        "print(\"The third highest score was section \" + str(thirdSec) + \" with similarity of: \" + str(thirdHighest))\n",
        "\n",
        "\n",
        "print(\"\\n\\nThis is the original Memo:\\n\" + Memo + \"\\n\\n\\nIt is most similar to the following three sections of the US Federal Code regarding firearm legislation.\\nThere is a high probability that the subject matter discussed in this memo could affect the laws discussed in this section, the summaries of these sections are printed below\")\n",
        "print(\"\\n\\nHighest Match:\\n\" + summary_array[firstSec].get('summary_text'))\n",
        "print(\"\\nSecond highest Match:\\n\" + summary_array[secondSec].get('summary_text'))\n",
        "print(\"\\nThird highest Match:\\n\" + summary_array[thirdSec].get('summary_text'))"
      ],
      "metadata": {
        "colab": {
          "base_uri": "https://localhost:8080/"
        },
        "id": "wFObjnMhojCd",
        "outputId": "acf4a5af-c673-43d5-a0b6-c639f78485d8"
      },
      "execution_count": 173,
      "outputs": [
        {
          "output_type": "stream",
          "name": "stdout",
          "text": [
            "The highest score was section 12 with similarity of: 0.24032841\n",
            "The second highest score was section 6 with similarity of: 0.1940382\n",
            "The third highest score was section 1 with similarity of: 0.18678634\n",
            "\n",
            "\n",
            "This is the original Memo:\n",
            " Microsoft Word - Open Letter South Carolina_Firearms Licensees-080820.docx U.S. Department of Justice Bureau of Alcohol, Tobacco, Firearms and Explosives Washington, DC 20226 August 20, 2008 Open Letter to South Carolina Federal Firearms Licensees The purpose of this letter is to advise you that the recent amendment to Section 16-23-30, Code of Laws of South Carolina, 1976, relating to the unlawful sale of handguns to certain person, so as to prohibit the sale of a handgun to persons under eighteen years of age rather than under twenty-one years of age has no effect on Federal firearms laws and regulations. Your obligations in the conduct of your business remain the same. Change in South Carolina Law: On April 2, 2008, South Carolina Governor Mark Sanford signed South Carolina House Bill 4364 into law. The new law, codified as an amendment to Section 16-23-30(A) of the 1976 Code of Laws of South Carolina, as amended, now provides as follows: Sale of handguns, prohibitions A. It is unlawful for a person to knowingly sell, offer to sell, deliver, lease, rent, barter, exchange, or transport for sale into this State any handgun to: 1. a person who has been convicted of a crime of violence in any court of the United States, the several states, commonwealths, territories, possessions, or the District of Columbia or who is a fugitive from justice or a habitual drunkard or a drug addict or who has been adjudicated mentally incompetent; 2. a person who is a member of a subversive organization; 3. a person under the age of eighteen, but this shall not apply to the issue of handguns to members of the Armed Forces of the United States, active or reserve, National Guard, State Militia, or R.O.T.C., when on duty or training or the temporary loan of handguns for instructions under the immediate supervision of a parent or adult instructor; or 4. a person who by order of a circuit judge or county court judge of this State has been adjudicated unfit to carry or possess a firearm, such adjudication to be made upon application by any police officer, or by any prosecuting officer of this State, or sua sponte, by the court, but a person who is the subject of such an application is entitled to reasonable notice and a proper hearing prior to any such adjudication. Please remember that Federal law makes it unlawful for a Federal firearms licensee to sell or deliver a handgun to any individual who the licensee knows or has reasonable cause to believe is less than twenty- one years of age. See, 18 U.S.C. § 922(b)(1). The new South Carolina law has no effect on Federal law. If you have any questions, you may contact the Charlotte Field Division at: 6701 Carmel Road Suite 200 Charlotte, North Carolina 28226 (704)716-1800 FAX (704)716-1801 As always, we thank you for your cooperation. Audrey Stucko Acting Assistant Director (Enforcement Programs and Services) \n",
            "\n",
            "\n",
            "It is most similar to the following three sections of the US Federal Code regarding firearm legislation.\n",
            "There is a high probability that the subject matter discussed in this memo could affect the laws discussed in this section, the summaries of these sections are printed below\n",
            "\n",
            "\n",
            "Highest Match:\n",
            "A pardon granted by the President of the U.S. regarding a Federal conviction shall remove any disability which otherwise would be imposed .\n",
            "\n",
            "Second highest Match:\n",
            "A research organization desiring such designation shall submit a letter application, in duplicate, to the Director . These organizations will not apply to selling or delivery of destructive devices, machine guns, short-barreled shotguns and rifles to any organization designated by the director to receive same.\n",
            "\n",
            "Third highest Match:\n",
            "The term \"includes\" and \"including\" do not exclude other things in the same general class or are otherwise within the scope of the Act . Writers: A person who acquires, holds, or disposes of firearms as curios or relics.\n"
          ]
        }
      ]
    }
  ],
  "metadata": {
    "kernelspec": {
      "display_name": "Python 3 (ipykernel)",
      "language": "python",
      "name": "python3"
    },
    "language_info": {
      "codemirror_mode": {
        "name": "ipython",
        "version": 3
      },
      "file_extension": ".py",
      "mimetype": "text/x-python",
      "name": "python",
      "nbconvert_exporter": "python",
      "pygments_lexer": "ipython3",
      "version": "3.10.7"
    },
    "colab": {
      "provenance": [],
      "machine_shape": "hm"
    },
    "accelerator": "TPU",
    "gpuClass": "standard",
    "widgets": {
      "application/vnd.jupyter.widget-state+json": {
        "cf4c072ea4f44d4bb788097227ec6c5e": {
          "model_module": "@jupyter-widgets/controls",
          "model_name": "HBoxModel",
          "model_module_version": "1.5.0",
          "state": {
            "_dom_classes": [],
            "_model_module": "@jupyter-widgets/controls",
            "_model_module_version": "1.5.0",
            "_model_name": "HBoxModel",
            "_view_count": null,
            "_view_module": "@jupyter-widgets/controls",
            "_view_module_version": "1.5.0",
            "_view_name": "HBoxView",
            "box_style": "",
            "children": [
              "IPY_MODEL_1f5d259c6d0f43369179f6cd33dd5d1b",
              "IPY_MODEL_ad939ddf7b3f4a02909c2279198a45c4",
              "IPY_MODEL_12044819017d49b28f8a9dfceb29e0bd"
            ],
            "layout": "IPY_MODEL_8efe039c8bb245e1baec3d1a3449100f"
          }
        },
        "1f5d259c6d0f43369179f6cd33dd5d1b": {
          "model_module": "@jupyter-widgets/controls",
          "model_name": "HTMLModel",
          "model_module_version": "1.5.0",
          "state": {
            "_dom_classes": [],
            "_model_module": "@jupyter-widgets/controls",
            "_model_module_version": "1.5.0",
            "_model_name": "HTMLModel",
            "_view_count": null,
            "_view_module": "@jupyter-widgets/controls",
            "_view_module_version": "1.5.0",
            "_view_name": "HTMLView",
            "description": "",
            "description_tooltip": null,
            "layout": "IPY_MODEL_0afe55fa1a7e404db337db95db9e80d7",
            "placeholder": "​",
            "style": "IPY_MODEL_6e5a58e4492d467eb8589b6740db2db0",
            "value": "Downloading: 100%"
          }
        },
        "ad939ddf7b3f4a02909c2279198a45c4": {
          "model_module": "@jupyter-widgets/controls",
          "model_name": "FloatProgressModel",
          "model_module_version": "1.5.0",
          "state": {
            "_dom_classes": [],
            "_model_module": "@jupyter-widgets/controls",
            "_model_module_version": "1.5.0",
            "_model_name": "FloatProgressModel",
            "_view_count": null,
            "_view_module": "@jupyter-widgets/controls",
            "_view_module_version": "1.5.0",
            "_view_name": "ProgressView",
            "bar_style": "success",
            "description": "",
            "description_tooltip": null,
            "layout": "IPY_MODEL_70a101ce5728433397f580579b610e90",
            "max": 426,
            "min": 0,
            "orientation": "horizontal",
            "style": "IPY_MODEL_62f0f5b8936f40e1abf8b182facf6ccc",
            "value": 426
          }
        },
        "12044819017d49b28f8a9dfceb29e0bd": {
          "model_module": "@jupyter-widgets/controls",
          "model_name": "HTMLModel",
          "model_module_version": "1.5.0",
          "state": {
            "_dom_classes": [],
            "_model_module": "@jupyter-widgets/controls",
            "_model_module_version": "1.5.0",
            "_model_name": "HTMLModel",
            "_view_count": null,
            "_view_module": "@jupyter-widgets/controls",
            "_view_module_version": "1.5.0",
            "_view_name": "HTMLView",
            "description": "",
            "description_tooltip": null,
            "layout": "IPY_MODEL_76b63db7c13e4e20921e8a1ec43e997b",
            "placeholder": "​",
            "style": "IPY_MODEL_c46621265cff49c7a2b46037d82d1a4a",
            "value": " 426/426 [00:00&lt;00:00, 14.3kB/s]"
          }
        },
        "8efe039c8bb245e1baec3d1a3449100f": {
          "model_module": "@jupyter-widgets/base",
          "model_name": "LayoutModel",
          "model_module_version": "1.2.0",
          "state": {
            "_model_module": "@jupyter-widgets/base",
            "_model_module_version": "1.2.0",
            "_model_name": "LayoutModel",
            "_view_count": null,
            "_view_module": "@jupyter-widgets/base",
            "_view_module_version": "1.2.0",
            "_view_name": "LayoutView",
            "align_content": null,
            "align_items": null,
            "align_self": null,
            "border": null,
            "bottom": null,
            "display": null,
            "flex": null,
            "flex_flow": null,
            "grid_area": null,
            "grid_auto_columns": null,
            "grid_auto_flow": null,
            "grid_auto_rows": null,
            "grid_column": null,
            "grid_gap": null,
            "grid_row": null,
            "grid_template_areas": null,
            "grid_template_columns": null,
            "grid_template_rows": null,
            "height": null,
            "justify_content": null,
            "justify_items": null,
            "left": null,
            "margin": null,
            "max_height": null,
            "max_width": null,
            "min_height": null,
            "min_width": null,
            "object_fit": null,
            "object_position": null,
            "order": null,
            "overflow": null,
            "overflow_x": null,
            "overflow_y": null,
            "padding": null,
            "right": null,
            "top": null,
            "visibility": null,
            "width": null
          }
        },
        "0afe55fa1a7e404db337db95db9e80d7": {
          "model_module": "@jupyter-widgets/base",
          "model_name": "LayoutModel",
          "model_module_version": "1.2.0",
          "state": {
            "_model_module": "@jupyter-widgets/base",
            "_model_module_version": "1.2.0",
            "_model_name": "LayoutModel",
            "_view_count": null,
            "_view_module": "@jupyter-widgets/base",
            "_view_module_version": "1.2.0",
            "_view_name": "LayoutView",
            "align_content": null,
            "align_items": null,
            "align_self": null,
            "border": null,
            "bottom": null,
            "display": null,
            "flex": null,
            "flex_flow": null,
            "grid_area": null,
            "grid_auto_columns": null,
            "grid_auto_flow": null,
            "grid_auto_rows": null,
            "grid_column": null,
            "grid_gap": null,
            "grid_row": null,
            "grid_template_areas": null,
            "grid_template_columns": null,
            "grid_template_rows": null,
            "height": null,
            "justify_content": null,
            "justify_items": null,
            "left": null,
            "margin": null,
            "max_height": null,
            "max_width": null,
            "min_height": null,
            "min_width": null,
            "object_fit": null,
            "object_position": null,
            "order": null,
            "overflow": null,
            "overflow_x": null,
            "overflow_y": null,
            "padding": null,
            "right": null,
            "top": null,
            "visibility": null,
            "width": null
          }
        },
        "6e5a58e4492d467eb8589b6740db2db0": {
          "model_module": "@jupyter-widgets/controls",
          "model_name": "DescriptionStyleModel",
          "model_module_version": "1.5.0",
          "state": {
            "_model_module": "@jupyter-widgets/controls",
            "_model_module_version": "1.5.0",
            "_model_name": "DescriptionStyleModel",
            "_view_count": null,
            "_view_module": "@jupyter-widgets/base",
            "_view_module_version": "1.2.0",
            "_view_name": "StyleView",
            "description_width": ""
          }
        },
        "70a101ce5728433397f580579b610e90": {
          "model_module": "@jupyter-widgets/base",
          "model_name": "LayoutModel",
          "model_module_version": "1.2.0",
          "state": {
            "_model_module": "@jupyter-widgets/base",
            "_model_module_version": "1.2.0",
            "_model_name": "LayoutModel",
            "_view_count": null,
            "_view_module": "@jupyter-widgets/base",
            "_view_module_version": "1.2.0",
            "_view_name": "LayoutView",
            "align_content": null,
            "align_items": null,
            "align_self": null,
            "border": null,
            "bottom": null,
            "display": null,
            "flex": null,
            "flex_flow": null,
            "grid_area": null,
            "grid_auto_columns": null,
            "grid_auto_flow": null,
            "grid_auto_rows": null,
            "grid_column": null,
            "grid_gap": null,
            "grid_row": null,
            "grid_template_areas": null,
            "grid_template_columns": null,
            "grid_template_rows": null,
            "height": null,
            "justify_content": null,
            "justify_items": null,
            "left": null,
            "margin": null,
            "max_height": null,
            "max_width": null,
            "min_height": null,
            "min_width": null,
            "object_fit": null,
            "object_position": null,
            "order": null,
            "overflow": null,
            "overflow_x": null,
            "overflow_y": null,
            "padding": null,
            "right": null,
            "top": null,
            "visibility": null,
            "width": null
          }
        },
        "62f0f5b8936f40e1abf8b182facf6ccc": {
          "model_module": "@jupyter-widgets/controls",
          "model_name": "ProgressStyleModel",
          "model_module_version": "1.5.0",
          "state": {
            "_model_module": "@jupyter-widgets/controls",
            "_model_module_version": "1.5.0",
            "_model_name": "ProgressStyleModel",
            "_view_count": null,
            "_view_module": "@jupyter-widgets/base",
            "_view_module_version": "1.2.0",
            "_view_name": "StyleView",
            "bar_color": null,
            "description_width": ""
          }
        },
        "76b63db7c13e4e20921e8a1ec43e997b": {
          "model_module": "@jupyter-widgets/base",
          "model_name": "LayoutModel",
          "model_module_version": "1.2.0",
          "state": {
            "_model_module": "@jupyter-widgets/base",
            "_model_module_version": "1.2.0",
            "_model_name": "LayoutModel",
            "_view_count": null,
            "_view_module": "@jupyter-widgets/base",
            "_view_module_version": "1.2.0",
            "_view_name": "LayoutView",
            "align_content": null,
            "align_items": null,
            "align_self": null,
            "border": null,
            "bottom": null,
            "display": null,
            "flex": null,
            "flex_flow": null,
            "grid_area": null,
            "grid_auto_columns": null,
            "grid_auto_flow": null,
            "grid_auto_rows": null,
            "grid_column": null,
            "grid_gap": null,
            "grid_row": null,
            "grid_template_areas": null,
            "grid_template_columns": null,
            "grid_template_rows": null,
            "height": null,
            "justify_content": null,
            "justify_items": null,
            "left": null,
            "margin": null,
            "max_height": null,
            "max_width": null,
            "min_height": null,
            "min_width": null,
            "object_fit": null,
            "object_position": null,
            "order": null,
            "overflow": null,
            "overflow_x": null,
            "overflow_y": null,
            "padding": null,
            "right": null,
            "top": null,
            "visibility": null,
            "width": null
          }
        },
        "c46621265cff49c7a2b46037d82d1a4a": {
          "model_module": "@jupyter-widgets/controls",
          "model_name": "DescriptionStyleModel",
          "model_module_version": "1.5.0",
          "state": {
            "_model_module": "@jupyter-widgets/controls",
            "_model_module_version": "1.5.0",
            "_model_name": "DescriptionStyleModel",
            "_view_count": null,
            "_view_module": "@jupyter-widgets/base",
            "_view_module_version": "1.2.0",
            "_view_name": "StyleView",
            "description_width": ""
          }
        },
        "526f6f65912341c495548f85f84ed5a9": {
          "model_module": "@jupyter-widgets/controls",
          "model_name": "HBoxModel",
          "model_module_version": "1.5.0",
          "state": {
            "_dom_classes": [],
            "_model_module": "@jupyter-widgets/controls",
            "_model_module_version": "1.5.0",
            "_model_name": "HBoxModel",
            "_view_count": null,
            "_view_module": "@jupyter-widgets/controls",
            "_view_module_version": "1.5.0",
            "_view_name": "HBoxView",
            "box_style": "",
            "children": [
              "IPY_MODEL_f4ae7e8180d04dae8e0f29db26abb549",
              "IPY_MODEL_c052b627a0f8492db55315e8ac1b2992",
              "IPY_MODEL_2cbb3c2afe0548eca9f0cba7261c5124"
            ],
            "layout": "IPY_MODEL_158878711e2f4b8284e47943c413432c"
          }
        },
        "f4ae7e8180d04dae8e0f29db26abb549": {
          "model_module": "@jupyter-widgets/controls",
          "model_name": "HTMLModel",
          "model_module_version": "1.5.0",
          "state": {
            "_dom_classes": [],
            "_model_module": "@jupyter-widgets/controls",
            "_model_module_version": "1.5.0",
            "_model_name": "HTMLModel",
            "_view_count": null,
            "_view_module": "@jupyter-widgets/controls",
            "_view_module_version": "1.5.0",
            "_view_name": "HTMLView",
            "description": "",
            "description_tooltip": null,
            "layout": "IPY_MODEL_e1a4cfcdd11f45c381c692f21ad63aa4",
            "placeholder": "​",
            "style": "IPY_MODEL_68b9bff46bcb492784c8f3162850a124",
            "value": "Downloading: 100%"
          }
        },
        "c052b627a0f8492db55315e8ac1b2992": {
          "model_module": "@jupyter-widgets/controls",
          "model_name": "FloatProgressModel",
          "model_module_version": "1.5.0",
          "state": {
            "_dom_classes": [],
            "_model_module": "@jupyter-widgets/controls",
            "_model_module_version": "1.5.0",
            "_model_name": "FloatProgressModel",
            "_view_count": null,
            "_view_module": "@jupyter-widgets/controls",
            "_view_module_version": "1.5.0",
            "_view_name": "ProgressView",
            "bar_style": "success",
            "description": "",
            "description_tooltip": null,
            "layout": "IPY_MODEL_7d59318c04704f1e8f81da9583c3db5b",
            "max": 4309802,
            "min": 0,
            "orientation": "horizontal",
            "style": "IPY_MODEL_2a401f4d566341a5b915264fc203312d",
            "value": 4309802
          }
        },
        "2cbb3c2afe0548eca9f0cba7261c5124": {
          "model_module": "@jupyter-widgets/controls",
          "model_name": "HTMLModel",
          "model_module_version": "1.5.0",
          "state": {
            "_dom_classes": [],
            "_model_module": "@jupyter-widgets/controls",
            "_model_module_version": "1.5.0",
            "_model_name": "HTMLModel",
            "_view_count": null,
            "_view_module": "@jupyter-widgets/controls",
            "_view_module_version": "1.5.0",
            "_view_name": "HTMLView",
            "description": "",
            "description_tooltip": null,
            "layout": "IPY_MODEL_c008359d8d254665bf5d123cba28bd71",
            "placeholder": "​",
            "style": "IPY_MODEL_d640dfaca16b4ea49bba0366e2628eef",
            "value": " 4.31M/4.31M [00:00&lt;00:00, 20.5MB/s]"
          }
        },
        "158878711e2f4b8284e47943c413432c": {
          "model_module": "@jupyter-widgets/base",
          "model_name": "LayoutModel",
          "model_module_version": "1.2.0",
          "state": {
            "_model_module": "@jupyter-widgets/base",
            "_model_module_version": "1.2.0",
            "_model_name": "LayoutModel",
            "_view_count": null,
            "_view_module": "@jupyter-widgets/base",
            "_view_module_version": "1.2.0",
            "_view_name": "LayoutView",
            "align_content": null,
            "align_items": null,
            "align_self": null,
            "border": null,
            "bottom": null,
            "display": null,
            "flex": null,
            "flex_flow": null,
            "grid_area": null,
            "grid_auto_columns": null,
            "grid_auto_flow": null,
            "grid_auto_rows": null,
            "grid_column": null,
            "grid_gap": null,
            "grid_row": null,
            "grid_template_areas": null,
            "grid_template_columns": null,
            "grid_template_rows": null,
            "height": null,
            "justify_content": null,
            "justify_items": null,
            "left": null,
            "margin": null,
            "max_height": null,
            "max_width": null,
            "min_height": null,
            "min_width": null,
            "object_fit": null,
            "object_position": null,
            "order": null,
            "overflow": null,
            "overflow_x": null,
            "overflow_y": null,
            "padding": null,
            "right": null,
            "top": null,
            "visibility": null,
            "width": null
          }
        },
        "e1a4cfcdd11f45c381c692f21ad63aa4": {
          "model_module": "@jupyter-widgets/base",
          "model_name": "LayoutModel",
          "model_module_version": "1.2.0",
          "state": {
            "_model_module": "@jupyter-widgets/base",
            "_model_module_version": "1.2.0",
            "_model_name": "LayoutModel",
            "_view_count": null,
            "_view_module": "@jupyter-widgets/base",
            "_view_module_version": "1.2.0",
            "_view_name": "LayoutView",
            "align_content": null,
            "align_items": null,
            "align_self": null,
            "border": null,
            "bottom": null,
            "display": null,
            "flex": null,
            "flex_flow": null,
            "grid_area": null,
            "grid_auto_columns": null,
            "grid_auto_flow": null,
            "grid_auto_rows": null,
            "grid_column": null,
            "grid_gap": null,
            "grid_row": null,
            "grid_template_areas": null,
            "grid_template_columns": null,
            "grid_template_rows": null,
            "height": null,
            "justify_content": null,
            "justify_items": null,
            "left": null,
            "margin": null,
            "max_height": null,
            "max_width": null,
            "min_height": null,
            "min_width": null,
            "object_fit": null,
            "object_position": null,
            "order": null,
            "overflow": null,
            "overflow_x": null,
            "overflow_y": null,
            "padding": null,
            "right": null,
            "top": null,
            "visibility": null,
            "width": null
          }
        },
        "68b9bff46bcb492784c8f3162850a124": {
          "model_module": "@jupyter-widgets/controls",
          "model_name": "DescriptionStyleModel",
          "model_module_version": "1.5.0",
          "state": {
            "_model_module": "@jupyter-widgets/controls",
            "_model_module_version": "1.5.0",
            "_model_name": "DescriptionStyleModel",
            "_view_count": null,
            "_view_module": "@jupyter-widgets/base",
            "_view_module_version": "1.2.0",
            "_view_name": "StyleView",
            "description_width": ""
          }
        },
        "7d59318c04704f1e8f81da9583c3db5b": {
          "model_module": "@jupyter-widgets/base",
          "model_name": "LayoutModel",
          "model_module_version": "1.2.0",
          "state": {
            "_model_module": "@jupyter-widgets/base",
            "_model_module_version": "1.2.0",
            "_model_name": "LayoutModel",
            "_view_count": null,
            "_view_module": "@jupyter-widgets/base",
            "_view_module_version": "1.2.0",
            "_view_name": "LayoutView",
            "align_content": null,
            "align_items": null,
            "align_self": null,
            "border": null,
            "bottom": null,
            "display": null,
            "flex": null,
            "flex_flow": null,
            "grid_area": null,
            "grid_auto_columns": null,
            "grid_auto_flow": null,
            "grid_auto_rows": null,
            "grid_column": null,
            "grid_gap": null,
            "grid_row": null,
            "grid_template_areas": null,
            "grid_template_columns": null,
            "grid_template_rows": null,
            "height": null,
            "justify_content": null,
            "justify_items": null,
            "left": null,
            "margin": null,
            "max_height": null,
            "max_width": null,
            "min_height": null,
            "min_width": null,
            "object_fit": null,
            "object_position": null,
            "order": null,
            "overflow": null,
            "overflow_x": null,
            "overflow_y": null,
            "padding": null,
            "right": null,
            "top": null,
            "visibility": null,
            "width": null
          }
        },
        "2a401f4d566341a5b915264fc203312d": {
          "model_module": "@jupyter-widgets/controls",
          "model_name": "ProgressStyleModel",
          "model_module_version": "1.5.0",
          "state": {
            "_model_module": "@jupyter-widgets/controls",
            "_model_module_version": "1.5.0",
            "_model_name": "ProgressStyleModel",
            "_view_count": null,
            "_view_module": "@jupyter-widgets/base",
            "_view_module_version": "1.2.0",
            "_view_name": "StyleView",
            "bar_color": null,
            "description_width": ""
          }
        },
        "c008359d8d254665bf5d123cba28bd71": {
          "model_module": "@jupyter-widgets/base",
          "model_name": "LayoutModel",
          "model_module_version": "1.2.0",
          "state": {
            "_model_module": "@jupyter-widgets/base",
            "_model_module_version": "1.2.0",
            "_model_name": "LayoutModel",
            "_view_count": null,
            "_view_module": "@jupyter-widgets/base",
            "_view_module_version": "1.2.0",
            "_view_name": "LayoutView",
            "align_content": null,
            "align_items": null,
            "align_self": null,
            "border": null,
            "bottom": null,
            "display": null,
            "flex": null,
            "flex_flow": null,
            "grid_area": null,
            "grid_auto_columns": null,
            "grid_auto_flow": null,
            "grid_auto_rows": null,
            "grid_column": null,
            "grid_gap": null,
            "grid_row": null,
            "grid_template_areas": null,
            "grid_template_columns": null,
            "grid_template_rows": null,
            "height": null,
            "justify_content": null,
            "justify_items": null,
            "left": null,
            "margin": null,
            "max_height": null,
            "max_width": null,
            "min_height": null,
            "min_width": null,
            "object_fit": null,
            "object_position": null,
            "order": null,
            "overflow": null,
            "overflow_x": null,
            "overflow_y": null,
            "padding": null,
            "right": null,
            "top": null,
            "visibility": null,
            "width": null
          }
        },
        "d640dfaca16b4ea49bba0366e2628eef": {
          "model_module": "@jupyter-widgets/controls",
          "model_name": "DescriptionStyleModel",
          "model_module_version": "1.5.0",
          "state": {
            "_model_module": "@jupyter-widgets/controls",
            "_model_module_version": "1.5.0",
            "_model_name": "DescriptionStyleModel",
            "_view_count": null,
            "_view_module": "@jupyter-widgets/base",
            "_view_module_version": "1.2.0",
            "_view_name": "StyleView",
            "description_width": ""
          }
        },
        "3e86f55c0aea4064bfcc76f4275c3cd5": {
          "model_module": "@jupyter-widgets/controls",
          "model_name": "HBoxModel",
          "model_module_version": "1.5.0",
          "state": {
            "_dom_classes": [],
            "_model_module": "@jupyter-widgets/controls",
            "_model_module_version": "1.5.0",
            "_model_name": "HBoxModel",
            "_view_count": null,
            "_view_module": "@jupyter-widgets/controls",
            "_view_module_version": "1.5.0",
            "_view_name": "HBoxView",
            "box_style": "",
            "children": [
              "IPY_MODEL_7b7cca0e375948c7a37febf4ea7f5a11",
              "IPY_MODEL_fffe4c1c70e24b8984b18c4fbf11c86c",
              "IPY_MODEL_61afdc47b8d2474889da3419069318c7"
            ],
            "layout": "IPY_MODEL_f15029d37cdb48deb09190af18bf11c7"
          }
        },
        "7b7cca0e375948c7a37febf4ea7f5a11": {
          "model_module": "@jupyter-widgets/controls",
          "model_name": "HTMLModel",
          "model_module_version": "1.5.0",
          "state": {
            "_dom_classes": [],
            "_model_module": "@jupyter-widgets/controls",
            "_model_module_version": "1.5.0",
            "_model_name": "HTMLModel",
            "_view_count": null,
            "_view_module": "@jupyter-widgets/controls",
            "_view_module_version": "1.5.0",
            "_view_name": "HTMLView",
            "description": "",
            "description_tooltip": null,
            "layout": "IPY_MODEL_76f7e88a9c5e44c8937788c7bc732d48",
            "placeholder": "​",
            "style": "IPY_MODEL_d2715e8b86cd4c46929f3b42fc7a9141",
            "value": "Downloading: 100%"
          }
        },
        "fffe4c1c70e24b8984b18c4fbf11c86c": {
          "model_module": "@jupyter-widgets/controls",
          "model_name": "FloatProgressModel",
          "model_module_version": "1.5.0",
          "state": {
            "_dom_classes": [],
            "_model_module": "@jupyter-widgets/controls",
            "_model_module_version": "1.5.0",
            "_model_name": "FloatProgressModel",
            "_view_count": null,
            "_view_module": "@jupyter-widgets/controls",
            "_view_module_version": "1.5.0",
            "_view_name": "ProgressView",
            "bar_style": "success",
            "description": "",
            "description_tooltip": null,
            "layout": "IPY_MODEL_45ae9382605f479490e6b4e79a2d60ce",
            "max": 16330369,
            "min": 0,
            "orientation": "horizontal",
            "style": "IPY_MODEL_b06807bab9854a39b1a6a858133d8eee",
            "value": 16330369
          }
        },
        "61afdc47b8d2474889da3419069318c7": {
          "model_module": "@jupyter-widgets/controls",
          "model_name": "HTMLModel",
          "model_module_version": "1.5.0",
          "state": {
            "_dom_classes": [],
            "_model_module": "@jupyter-widgets/controls",
            "_model_module_version": "1.5.0",
            "_model_name": "HTMLModel",
            "_view_count": null,
            "_view_module": "@jupyter-widgets/controls",
            "_view_module_version": "1.5.0",
            "_view_name": "HTMLView",
            "description": "",
            "description_tooltip": null,
            "layout": "IPY_MODEL_191b9463d6364476a79f318f04bb4660",
            "placeholder": "​",
            "style": "IPY_MODEL_2b5772904530411fae50b6f5bba58c06",
            "value": " 16.3M/16.3M [00:00&lt;00:00, 54.3MB/s]"
          }
        },
        "f15029d37cdb48deb09190af18bf11c7": {
          "model_module": "@jupyter-widgets/base",
          "model_name": "LayoutModel",
          "model_module_version": "1.2.0",
          "state": {
            "_model_module": "@jupyter-widgets/base",
            "_model_module_version": "1.2.0",
            "_model_name": "LayoutModel",
            "_view_count": null,
            "_view_module": "@jupyter-widgets/base",
            "_view_module_version": "1.2.0",
            "_view_name": "LayoutView",
            "align_content": null,
            "align_items": null,
            "align_self": null,
            "border": null,
            "bottom": null,
            "display": null,
            "flex": null,
            "flex_flow": null,
            "grid_area": null,
            "grid_auto_columns": null,
            "grid_auto_flow": null,
            "grid_auto_rows": null,
            "grid_column": null,
            "grid_gap": null,
            "grid_row": null,
            "grid_template_areas": null,
            "grid_template_columns": null,
            "grid_template_rows": null,
            "height": null,
            "justify_content": null,
            "justify_items": null,
            "left": null,
            "margin": null,
            "max_height": null,
            "max_width": null,
            "min_height": null,
            "min_width": null,
            "object_fit": null,
            "object_position": null,
            "order": null,
            "overflow": null,
            "overflow_x": null,
            "overflow_y": null,
            "padding": null,
            "right": null,
            "top": null,
            "visibility": null,
            "width": null
          }
        },
        "76f7e88a9c5e44c8937788c7bc732d48": {
          "model_module": "@jupyter-widgets/base",
          "model_name": "LayoutModel",
          "model_module_version": "1.2.0",
          "state": {
            "_model_module": "@jupyter-widgets/base",
            "_model_module_version": "1.2.0",
            "_model_name": "LayoutModel",
            "_view_count": null,
            "_view_module": "@jupyter-widgets/base",
            "_view_module_version": "1.2.0",
            "_view_name": "LayoutView",
            "align_content": null,
            "align_items": null,
            "align_self": null,
            "border": null,
            "bottom": null,
            "display": null,
            "flex": null,
            "flex_flow": null,
            "grid_area": null,
            "grid_auto_columns": null,
            "grid_auto_flow": null,
            "grid_auto_rows": null,
            "grid_column": null,
            "grid_gap": null,
            "grid_row": null,
            "grid_template_areas": null,
            "grid_template_columns": null,
            "grid_template_rows": null,
            "height": null,
            "justify_content": null,
            "justify_items": null,
            "left": null,
            "margin": null,
            "max_height": null,
            "max_width": null,
            "min_height": null,
            "min_width": null,
            "object_fit": null,
            "object_position": null,
            "order": null,
            "overflow": null,
            "overflow_x": null,
            "overflow_y": null,
            "padding": null,
            "right": null,
            "top": null,
            "visibility": null,
            "width": null
          }
        },
        "d2715e8b86cd4c46929f3b42fc7a9141": {
          "model_module": "@jupyter-widgets/controls",
          "model_name": "DescriptionStyleModel",
          "model_module_version": "1.5.0",
          "state": {
            "_model_module": "@jupyter-widgets/controls",
            "_model_module_version": "1.5.0",
            "_model_name": "DescriptionStyleModel",
            "_view_count": null,
            "_view_module": "@jupyter-widgets/base",
            "_view_module_version": "1.2.0",
            "_view_name": "StyleView",
            "description_width": ""
          }
        },
        "45ae9382605f479490e6b4e79a2d60ce": {
          "model_module": "@jupyter-widgets/base",
          "model_name": "LayoutModel",
          "model_module_version": "1.2.0",
          "state": {
            "_model_module": "@jupyter-widgets/base",
            "_model_module_version": "1.2.0",
            "_model_name": "LayoutModel",
            "_view_count": null,
            "_view_module": "@jupyter-widgets/base",
            "_view_module_version": "1.2.0",
            "_view_name": "LayoutView",
            "align_content": null,
            "align_items": null,
            "align_self": null,
            "border": null,
            "bottom": null,
            "display": null,
            "flex": null,
            "flex_flow": null,
            "grid_area": null,
            "grid_auto_columns": null,
            "grid_auto_flow": null,
            "grid_auto_rows": null,
            "grid_column": null,
            "grid_gap": null,
            "grid_row": null,
            "grid_template_areas": null,
            "grid_template_columns": null,
            "grid_template_rows": null,
            "height": null,
            "justify_content": null,
            "justify_items": null,
            "left": null,
            "margin": null,
            "max_height": null,
            "max_width": null,
            "min_height": null,
            "min_width": null,
            "object_fit": null,
            "object_position": null,
            "order": null,
            "overflow": null,
            "overflow_x": null,
            "overflow_y": null,
            "padding": null,
            "right": null,
            "top": null,
            "visibility": null,
            "width": null
          }
        },
        "b06807bab9854a39b1a6a858133d8eee": {
          "model_module": "@jupyter-widgets/controls",
          "model_name": "ProgressStyleModel",
          "model_module_version": "1.5.0",
          "state": {
            "_model_module": "@jupyter-widgets/controls",
            "_model_module_version": "1.5.0",
            "_model_name": "ProgressStyleModel",
            "_view_count": null,
            "_view_module": "@jupyter-widgets/base",
            "_view_module_version": "1.2.0",
            "_view_name": "StyleView",
            "bar_color": null,
            "description_width": ""
          }
        },
        "191b9463d6364476a79f318f04bb4660": {
          "model_module": "@jupyter-widgets/base",
          "model_name": "LayoutModel",
          "model_module_version": "1.2.0",
          "state": {
            "_model_module": "@jupyter-widgets/base",
            "_model_module_version": "1.2.0",
            "_model_name": "LayoutModel",
            "_view_count": null,
            "_view_module": "@jupyter-widgets/base",
            "_view_module_version": "1.2.0",
            "_view_name": "LayoutView",
            "align_content": null,
            "align_items": null,
            "align_self": null,
            "border": null,
            "bottom": null,
            "display": null,
            "flex": null,
            "flex_flow": null,
            "grid_area": null,
            "grid_auto_columns": null,
            "grid_auto_flow": null,
            "grid_auto_rows": null,
            "grid_column": null,
            "grid_gap": null,
            "grid_row": null,
            "grid_template_areas": null,
            "grid_template_columns": null,
            "grid_template_rows": null,
            "height": null,
            "justify_content": null,
            "justify_items": null,
            "left": null,
            "margin": null,
            "max_height": null,
            "max_width": null,
            "min_height": null,
            "min_width": null,
            "object_fit": null,
            "object_position": null,
            "order": null,
            "overflow": null,
            "overflow_x": null,
            "overflow_y": null,
            "padding": null,
            "right": null,
            "top": null,
            "visibility": null,
            "width": null
          }
        },
        "2b5772904530411fae50b6f5bba58c06": {
          "model_module": "@jupyter-widgets/controls",
          "model_name": "DescriptionStyleModel",
          "model_module_version": "1.5.0",
          "state": {
            "_model_module": "@jupyter-widgets/controls",
            "_model_module_version": "1.5.0",
            "_model_name": "DescriptionStyleModel",
            "_view_count": null,
            "_view_module": "@jupyter-widgets/base",
            "_view_module_version": "1.2.0",
            "_view_name": "StyleView",
            "description_width": ""
          }
        },
        "48453f3e78be44088c982554526a35dc": {
          "model_module": "@jupyter-widgets/controls",
          "model_name": "HBoxModel",
          "model_module_version": "1.5.0",
          "state": {
            "_dom_classes": [],
            "_model_module": "@jupyter-widgets/controls",
            "_model_module_version": "1.5.0",
            "_model_name": "HBoxModel",
            "_view_count": null,
            "_view_module": "@jupyter-widgets/controls",
            "_view_module_version": "1.5.0",
            "_view_name": "HBoxView",
            "box_style": "",
            "children": [
              "IPY_MODEL_d01c3ca7d0b04dc49def954df9d1f43a",
              "IPY_MODEL_a5a892ebbaa345359863b4bde2a12a12",
              "IPY_MODEL_82cfd2b58c5043439052ebb3e241a2de"
            ],
            "layout": "IPY_MODEL_b4f4db8ed7294dd48662b5ffd9a25c85"
          }
        },
        "d01c3ca7d0b04dc49def954df9d1f43a": {
          "model_module": "@jupyter-widgets/controls",
          "model_name": "HTMLModel",
          "model_module_version": "1.5.0",
          "state": {
            "_dom_classes": [],
            "_model_module": "@jupyter-widgets/controls",
            "_model_module_version": "1.5.0",
            "_model_name": "HTMLModel",
            "_view_count": null,
            "_view_module": "@jupyter-widgets/controls",
            "_view_module_version": "1.5.0",
            "_view_name": "HTMLView",
            "description": "",
            "description_tooltip": null,
            "layout": "IPY_MODEL_ac5bbc3a1bf04fcc8eafdf62f19b41bd",
            "placeholder": "​",
            "style": "IPY_MODEL_4fab013bfb144cc3a6dbf73be7284ca2",
            "value": "Downloading: 100%"
          }
        },
        "a5a892ebbaa345359863b4bde2a12a12": {
          "model_module": "@jupyter-widgets/controls",
          "model_name": "FloatProgressModel",
          "model_module_version": "1.5.0",
          "state": {
            "_dom_classes": [],
            "_model_module": "@jupyter-widgets/controls",
            "_model_module_version": "1.5.0",
            "_model_name": "FloatProgressModel",
            "_view_count": null,
            "_view_module": "@jupyter-widgets/controls",
            "_view_module_version": "1.5.0",
            "_view_name": "ProgressView",
            "bar_style": "success",
            "description": "",
            "description_tooltip": null,
            "layout": "IPY_MODEL_e7dae60f66f14ee7877761184189c193",
            "max": 65,
            "min": 0,
            "orientation": "horizontal",
            "style": "IPY_MODEL_bbd78f05efbb45c798b644a5eb795e8a",
            "value": 65
          }
        },
        "82cfd2b58c5043439052ebb3e241a2de": {
          "model_module": "@jupyter-widgets/controls",
          "model_name": "HTMLModel",
          "model_module_version": "1.5.0",
          "state": {
            "_dom_classes": [],
            "_model_module": "@jupyter-widgets/controls",
            "_model_module_version": "1.5.0",
            "_model_name": "HTMLModel",
            "_view_count": null,
            "_view_module": "@jupyter-widgets/controls",
            "_view_module_version": "1.5.0",
            "_view_name": "HTMLView",
            "description": "",
            "description_tooltip": null,
            "layout": "IPY_MODEL_18f79a7ec3274afc9f3684ad52e39588",
            "placeholder": "​",
            "style": "IPY_MODEL_bd5b97d9b8304f89b6ff5e9664b16117",
            "value": " 65.0/65.0 [00:00&lt;00:00, 2.64kB/s]"
          }
        },
        "b4f4db8ed7294dd48662b5ffd9a25c85": {
          "model_module": "@jupyter-widgets/base",
          "model_name": "LayoutModel",
          "model_module_version": "1.2.0",
          "state": {
            "_model_module": "@jupyter-widgets/base",
            "_model_module_version": "1.2.0",
            "_model_name": "LayoutModel",
            "_view_count": null,
            "_view_module": "@jupyter-widgets/base",
            "_view_module_version": "1.2.0",
            "_view_name": "LayoutView",
            "align_content": null,
            "align_items": null,
            "align_self": null,
            "border": null,
            "bottom": null,
            "display": null,
            "flex": null,
            "flex_flow": null,
            "grid_area": null,
            "grid_auto_columns": null,
            "grid_auto_flow": null,
            "grid_auto_rows": null,
            "grid_column": null,
            "grid_gap": null,
            "grid_row": null,
            "grid_template_areas": null,
            "grid_template_columns": null,
            "grid_template_rows": null,
            "height": null,
            "justify_content": null,
            "justify_items": null,
            "left": null,
            "margin": null,
            "max_height": null,
            "max_width": null,
            "min_height": null,
            "min_width": null,
            "object_fit": null,
            "object_position": null,
            "order": null,
            "overflow": null,
            "overflow_x": null,
            "overflow_y": null,
            "padding": null,
            "right": null,
            "top": null,
            "visibility": null,
            "width": null
          }
        },
        "ac5bbc3a1bf04fcc8eafdf62f19b41bd": {
          "model_module": "@jupyter-widgets/base",
          "model_name": "LayoutModel",
          "model_module_version": "1.2.0",
          "state": {
            "_model_module": "@jupyter-widgets/base",
            "_model_module_version": "1.2.0",
            "_model_name": "LayoutModel",
            "_view_count": null,
            "_view_module": "@jupyter-widgets/base",
            "_view_module_version": "1.2.0",
            "_view_name": "LayoutView",
            "align_content": null,
            "align_items": null,
            "align_self": null,
            "border": null,
            "bottom": null,
            "display": null,
            "flex": null,
            "flex_flow": null,
            "grid_area": null,
            "grid_auto_columns": null,
            "grid_auto_flow": null,
            "grid_auto_rows": null,
            "grid_column": null,
            "grid_gap": null,
            "grid_row": null,
            "grid_template_areas": null,
            "grid_template_columns": null,
            "grid_template_rows": null,
            "height": null,
            "justify_content": null,
            "justify_items": null,
            "left": null,
            "margin": null,
            "max_height": null,
            "max_width": null,
            "min_height": null,
            "min_width": null,
            "object_fit": null,
            "object_position": null,
            "order": null,
            "overflow": null,
            "overflow_x": null,
            "overflow_y": null,
            "padding": null,
            "right": null,
            "top": null,
            "visibility": null,
            "width": null
          }
        },
        "4fab013bfb144cc3a6dbf73be7284ca2": {
          "model_module": "@jupyter-widgets/controls",
          "model_name": "DescriptionStyleModel",
          "model_module_version": "1.5.0",
          "state": {
            "_model_module": "@jupyter-widgets/controls",
            "_model_module_version": "1.5.0",
            "_model_name": "DescriptionStyleModel",
            "_view_count": null,
            "_view_module": "@jupyter-widgets/base",
            "_view_module_version": "1.2.0",
            "_view_name": "StyleView",
            "description_width": ""
          }
        },
        "e7dae60f66f14ee7877761184189c193": {
          "model_module": "@jupyter-widgets/base",
          "model_name": "LayoutModel",
          "model_module_version": "1.2.0",
          "state": {
            "_model_module": "@jupyter-widgets/base",
            "_model_module_version": "1.2.0",
            "_model_name": "LayoutModel",
            "_view_count": null,
            "_view_module": "@jupyter-widgets/base",
            "_view_module_version": "1.2.0",
            "_view_name": "LayoutView",
            "align_content": null,
            "align_items": null,
            "align_self": null,
            "border": null,
            "bottom": null,
            "display": null,
            "flex": null,
            "flex_flow": null,
            "grid_area": null,
            "grid_auto_columns": null,
            "grid_auto_flow": null,
            "grid_auto_rows": null,
            "grid_column": null,
            "grid_gap": null,
            "grid_row": null,
            "grid_template_areas": null,
            "grid_template_columns": null,
            "grid_template_rows": null,
            "height": null,
            "justify_content": null,
            "justify_items": null,
            "left": null,
            "margin": null,
            "max_height": null,
            "max_width": null,
            "min_height": null,
            "min_width": null,
            "object_fit": null,
            "object_position": null,
            "order": null,
            "overflow": null,
            "overflow_x": null,
            "overflow_y": null,
            "padding": null,
            "right": null,
            "top": null,
            "visibility": null,
            "width": null
          }
        },
        "bbd78f05efbb45c798b644a5eb795e8a": {
          "model_module": "@jupyter-widgets/controls",
          "model_name": "ProgressStyleModel",
          "model_module_version": "1.5.0",
          "state": {
            "_model_module": "@jupyter-widgets/controls",
            "_model_module_version": "1.5.0",
            "_model_name": "ProgressStyleModel",
            "_view_count": null,
            "_view_module": "@jupyter-widgets/base",
            "_view_module_version": "1.2.0",
            "_view_name": "StyleView",
            "bar_color": null,
            "description_width": ""
          }
        },
        "18f79a7ec3274afc9f3684ad52e39588": {
          "model_module": "@jupyter-widgets/base",
          "model_name": "LayoutModel",
          "model_module_version": "1.2.0",
          "state": {
            "_model_module": "@jupyter-widgets/base",
            "_model_module_version": "1.2.0",
            "_model_name": "LayoutModel",
            "_view_count": null,
            "_view_module": "@jupyter-widgets/base",
            "_view_module_version": "1.2.0",
            "_view_name": "LayoutView",
            "align_content": null,
            "align_items": null,
            "align_self": null,
            "border": null,
            "bottom": null,
            "display": null,
            "flex": null,
            "flex_flow": null,
            "grid_area": null,
            "grid_auto_columns": null,
            "grid_auto_flow": null,
            "grid_auto_rows": null,
            "grid_column": null,
            "grid_gap": null,
            "grid_row": null,
            "grid_template_areas": null,
            "grid_template_columns": null,
            "grid_template_rows": null,
            "height": null,
            "justify_content": null,
            "justify_items": null,
            "left": null,
            "margin": null,
            "max_height": null,
            "max_width": null,
            "min_height": null,
            "min_width": null,
            "object_fit": null,
            "object_position": null,
            "order": null,
            "overflow": null,
            "overflow_x": null,
            "overflow_y": null,
            "padding": null,
            "right": null,
            "top": null,
            "visibility": null,
            "width": null
          }
        },
        "bd5b97d9b8304f89b6ff5e9664b16117": {
          "model_module": "@jupyter-widgets/controls",
          "model_name": "DescriptionStyleModel",
          "model_module_version": "1.5.0",
          "state": {
            "_model_module": "@jupyter-widgets/controls",
            "_model_module_version": "1.5.0",
            "_model_name": "DescriptionStyleModel",
            "_view_count": null,
            "_view_module": "@jupyter-widgets/base",
            "_view_module_version": "1.2.0",
            "_view_name": "StyleView",
            "description_width": ""
          }
        },
        "17eed71855de4453a8c5649e2d7789a3": {
          "model_module": "@jupyter-widgets/controls",
          "model_name": "HBoxModel",
          "model_module_version": "1.5.0",
          "state": {
            "_dom_classes": [],
            "_model_module": "@jupyter-widgets/controls",
            "_model_module_version": "1.5.0",
            "_model_name": "HBoxModel",
            "_view_count": null,
            "_view_module": "@jupyter-widgets/controls",
            "_view_module_version": "1.5.0",
            "_view_name": "HBoxView",
            "box_style": "",
            "children": [
              "IPY_MODEL_9f7d654797e040f6a42f362bbcfae408",
              "IPY_MODEL_1ae8a6a0347d4ba09d074371d76522f7",
              "IPY_MODEL_f03974062b0c4db58e2a4ffdbb519069"
            ],
            "layout": "IPY_MODEL_e1eee77afc804796b07c973d4918f366"
          }
        },
        "9f7d654797e040f6a42f362bbcfae408": {
          "model_module": "@jupyter-widgets/controls",
          "model_name": "HTMLModel",
          "model_module_version": "1.5.0",
          "state": {
            "_dom_classes": [],
            "_model_module": "@jupyter-widgets/controls",
            "_model_module_version": "1.5.0",
            "_model_name": "HTMLModel",
            "_view_count": null,
            "_view_module": "@jupyter-widgets/controls",
            "_view_module_version": "1.5.0",
            "_view_name": "HTMLView",
            "description": "",
            "description_tooltip": null,
            "layout": "IPY_MODEL_ca3eae4865d84e4f9e1e3b90466ca446",
            "placeholder": "​",
            "style": "IPY_MODEL_31db4b1f68fe4132adf0ed6f00eb2824",
            "value": "Downloading: 100%"
          }
        },
        "1ae8a6a0347d4ba09d074371d76522f7": {
          "model_module": "@jupyter-widgets/controls",
          "model_name": "FloatProgressModel",
          "model_module_version": "1.5.0",
          "state": {
            "_dom_classes": [],
            "_model_module": "@jupyter-widgets/controls",
            "_model_module_version": "1.5.0",
            "_model_name": "FloatProgressModel",
            "_view_count": null,
            "_view_module": "@jupyter-widgets/controls",
            "_view_module_version": "1.5.0",
            "_view_name": "ProgressView",
            "bar_style": "success",
            "description": "",
            "description_tooltip": null,
            "layout": "IPY_MODEL_ef5a5da857d64a8cb140b870257f4acb",
            "max": 854,
            "min": 0,
            "orientation": "horizontal",
            "style": "IPY_MODEL_6548a7a4948148ea9008a81c80b9205f",
            "value": 854
          }
        },
        "f03974062b0c4db58e2a4ffdbb519069": {
          "model_module": "@jupyter-widgets/controls",
          "model_name": "HTMLModel",
          "model_module_version": "1.5.0",
          "state": {
            "_dom_classes": [],
            "_model_module": "@jupyter-widgets/controls",
            "_model_module_version": "1.5.0",
            "_model_name": "HTMLModel",
            "_view_count": null,
            "_view_module": "@jupyter-widgets/controls",
            "_view_module_version": "1.5.0",
            "_view_name": "HTMLView",
            "description": "",
            "description_tooltip": null,
            "layout": "IPY_MODEL_ba2b2da4f9e542c69cb505d74d187c7c",
            "placeholder": "​",
            "style": "IPY_MODEL_b2a83a97db2947eba3ef64f1a906de1b",
            "value": " 854/854 [00:00&lt;00:00, 33.3kB/s]"
          }
        },
        "e1eee77afc804796b07c973d4918f366": {
          "model_module": "@jupyter-widgets/base",
          "model_name": "LayoutModel",
          "model_module_version": "1.2.0",
          "state": {
            "_model_module": "@jupyter-widgets/base",
            "_model_module_version": "1.2.0",
            "_model_name": "LayoutModel",
            "_view_count": null,
            "_view_module": "@jupyter-widgets/base",
            "_view_module_version": "1.2.0",
            "_view_name": "LayoutView",
            "align_content": null,
            "align_items": null,
            "align_self": null,
            "border": null,
            "bottom": null,
            "display": null,
            "flex": null,
            "flex_flow": null,
            "grid_area": null,
            "grid_auto_columns": null,
            "grid_auto_flow": null,
            "grid_auto_rows": null,
            "grid_column": null,
            "grid_gap": null,
            "grid_row": null,
            "grid_template_areas": null,
            "grid_template_columns": null,
            "grid_template_rows": null,
            "height": null,
            "justify_content": null,
            "justify_items": null,
            "left": null,
            "margin": null,
            "max_height": null,
            "max_width": null,
            "min_height": null,
            "min_width": null,
            "object_fit": null,
            "object_position": null,
            "order": null,
            "overflow": null,
            "overflow_x": null,
            "overflow_y": null,
            "padding": null,
            "right": null,
            "top": null,
            "visibility": null,
            "width": null
          }
        },
        "ca3eae4865d84e4f9e1e3b90466ca446": {
          "model_module": "@jupyter-widgets/base",
          "model_name": "LayoutModel",
          "model_module_version": "1.2.0",
          "state": {
            "_model_module": "@jupyter-widgets/base",
            "_model_module_version": "1.2.0",
            "_model_name": "LayoutModel",
            "_view_count": null,
            "_view_module": "@jupyter-widgets/base",
            "_view_module_version": "1.2.0",
            "_view_name": "LayoutView",
            "align_content": null,
            "align_items": null,
            "align_self": null,
            "border": null,
            "bottom": null,
            "display": null,
            "flex": null,
            "flex_flow": null,
            "grid_area": null,
            "grid_auto_columns": null,
            "grid_auto_flow": null,
            "grid_auto_rows": null,
            "grid_column": null,
            "grid_gap": null,
            "grid_row": null,
            "grid_template_areas": null,
            "grid_template_columns": null,
            "grid_template_rows": null,
            "height": null,
            "justify_content": null,
            "justify_items": null,
            "left": null,
            "margin": null,
            "max_height": null,
            "max_width": null,
            "min_height": null,
            "min_width": null,
            "object_fit": null,
            "object_position": null,
            "order": null,
            "overflow": null,
            "overflow_x": null,
            "overflow_y": null,
            "padding": null,
            "right": null,
            "top": null,
            "visibility": null,
            "width": null
          }
        },
        "31db4b1f68fe4132adf0ed6f00eb2824": {
          "model_module": "@jupyter-widgets/controls",
          "model_name": "DescriptionStyleModel",
          "model_module_version": "1.5.0",
          "state": {
            "_model_module": "@jupyter-widgets/controls",
            "_model_module_version": "1.5.0",
            "_model_name": "DescriptionStyleModel",
            "_view_count": null,
            "_view_module": "@jupyter-widgets/base",
            "_view_module_version": "1.2.0",
            "_view_name": "StyleView",
            "description_width": ""
          }
        },
        "ef5a5da857d64a8cb140b870257f4acb": {
          "model_module": "@jupyter-widgets/base",
          "model_name": "LayoutModel",
          "model_module_version": "1.2.0",
          "state": {
            "_model_module": "@jupyter-widgets/base",
            "_model_module_version": "1.2.0",
            "_model_name": "LayoutModel",
            "_view_count": null,
            "_view_module": "@jupyter-widgets/base",
            "_view_module_version": "1.2.0",
            "_view_name": "LayoutView",
            "align_content": null,
            "align_items": null,
            "align_self": null,
            "border": null,
            "bottom": null,
            "display": null,
            "flex": null,
            "flex_flow": null,
            "grid_area": null,
            "grid_auto_columns": null,
            "grid_auto_flow": null,
            "grid_auto_rows": null,
            "grid_column": null,
            "grid_gap": null,
            "grid_row": null,
            "grid_template_areas": null,
            "grid_template_columns": null,
            "grid_template_rows": null,
            "height": null,
            "justify_content": null,
            "justify_items": null,
            "left": null,
            "margin": null,
            "max_height": null,
            "max_width": null,
            "min_height": null,
            "min_width": null,
            "object_fit": null,
            "object_position": null,
            "order": null,
            "overflow": null,
            "overflow_x": null,
            "overflow_y": null,
            "padding": null,
            "right": null,
            "top": null,
            "visibility": null,
            "width": null
          }
        },
        "6548a7a4948148ea9008a81c80b9205f": {
          "model_module": "@jupyter-widgets/controls",
          "model_name": "ProgressStyleModel",
          "model_module_version": "1.5.0",
          "state": {
            "_model_module": "@jupyter-widgets/controls",
            "_model_module_version": "1.5.0",
            "_model_name": "ProgressStyleModel",
            "_view_count": null,
            "_view_module": "@jupyter-widgets/base",
            "_view_module_version": "1.2.0",
            "_view_name": "StyleView",
            "bar_color": null,
            "description_width": ""
          }
        },
        "ba2b2da4f9e542c69cb505d74d187c7c": {
          "model_module": "@jupyter-widgets/base",
          "model_name": "LayoutModel",
          "model_module_version": "1.2.0",
          "state": {
            "_model_module": "@jupyter-widgets/base",
            "_model_module_version": "1.2.0",
            "_model_name": "LayoutModel",
            "_view_count": null,
            "_view_module": "@jupyter-widgets/base",
            "_view_module_version": "1.2.0",
            "_view_name": "LayoutView",
            "align_content": null,
            "align_items": null,
            "align_self": null,
            "border": null,
            "bottom": null,
            "display": null,
            "flex": null,
            "flex_flow": null,
            "grid_area": null,
            "grid_auto_columns": null,
            "grid_auto_flow": null,
            "grid_auto_rows": null,
            "grid_column": null,
            "grid_gap": null,
            "grid_row": null,
            "grid_template_areas": null,
            "grid_template_columns": null,
            "grid_template_rows": null,
            "height": null,
            "justify_content": null,
            "justify_items": null,
            "left": null,
            "margin": null,
            "max_height": null,
            "max_width": null,
            "min_height": null,
            "min_width": null,
            "object_fit": null,
            "object_position": null,
            "order": null,
            "overflow": null,
            "overflow_x": null,
            "overflow_y": null,
            "padding": null,
            "right": null,
            "top": null,
            "visibility": null,
            "width": null
          }
        },
        "b2a83a97db2947eba3ef64f1a906de1b": {
          "model_module": "@jupyter-widgets/controls",
          "model_name": "DescriptionStyleModel",
          "model_module_version": "1.5.0",
          "state": {
            "_model_module": "@jupyter-widgets/controls",
            "_model_module_version": "1.5.0",
            "_model_name": "DescriptionStyleModel",
            "_view_count": null,
            "_view_module": "@jupyter-widgets/base",
            "_view_module_version": "1.2.0",
            "_view_name": "StyleView",
            "description_width": ""
          }
        },
        "1d896b5b59794d1d97d1ea1191220d54": {
          "model_module": "@jupyter-widgets/controls",
          "model_name": "HBoxModel",
          "model_module_version": "1.5.0",
          "state": {
            "_dom_classes": [],
            "_model_module": "@jupyter-widgets/controls",
            "_model_module_version": "1.5.0",
            "_model_name": "HBoxModel",
            "_view_count": null,
            "_view_module": "@jupyter-widgets/controls",
            "_view_module_version": "1.5.0",
            "_view_name": "HBoxView",
            "box_style": "",
            "children": [
              "IPY_MODEL_c09094ed1a88471c89b6cec133a04a0c",
              "IPY_MODEL_1f1117faa7b84d31900e9754ade43a1b",
              "IPY_MODEL_5c94730b452848e1927f87f2f5d81156"
            ],
            "layout": "IPY_MODEL_7f5855e7749a4d4c8edb10e275193540"
          }
        },
        "c09094ed1a88471c89b6cec133a04a0c": {
          "model_module": "@jupyter-widgets/controls",
          "model_name": "HTMLModel",
          "model_module_version": "1.5.0",
          "state": {
            "_dom_classes": [],
            "_model_module": "@jupyter-widgets/controls",
            "_model_module_version": "1.5.0",
            "_model_name": "HTMLModel",
            "_view_count": null,
            "_view_module": "@jupyter-widgets/controls",
            "_view_module_version": "1.5.0",
            "_view_name": "HTMLView",
            "description": "",
            "description_tooltip": null,
            "layout": "IPY_MODEL_9e897c0a54f14232a5dc45536543fadf",
            "placeholder": "​",
            "style": "IPY_MODEL_d102c78eb2e841dcb91fa3cdfbd26e43",
            "value": "Downloading: 100%"
          }
        },
        "1f1117faa7b84d31900e9754ade43a1b": {
          "model_module": "@jupyter-widgets/controls",
          "model_name": "FloatProgressModel",
          "model_module_version": "1.5.0",
          "state": {
            "_dom_classes": [],
            "_model_module": "@jupyter-widgets/controls",
            "_model_module_version": "1.5.0",
            "_model_name": "FloatProgressModel",
            "_view_count": null,
            "_view_module": "@jupyter-widgets/controls",
            "_view_module_version": "1.5.0",
            "_view_name": "ProgressView",
            "bar_style": "success",
            "description": "",
            "description_tooltip": null,
            "layout": "IPY_MODEL_7b99e53e54374af59222eb6519656fdf",
            "max": 2329700301,
            "min": 0,
            "orientation": "horizontal",
            "style": "IPY_MODEL_2ee69b63a12a4193bf583e00cfbd4035",
            "value": 2329700301
          }
        },
        "5c94730b452848e1927f87f2f5d81156": {
          "model_module": "@jupyter-widgets/controls",
          "model_name": "HTMLModel",
          "model_module_version": "1.5.0",
          "state": {
            "_dom_classes": [],
            "_model_module": "@jupyter-widgets/controls",
            "_model_module_version": "1.5.0",
            "_model_name": "HTMLModel",
            "_view_count": null,
            "_view_module": "@jupyter-widgets/controls",
            "_view_module_version": "1.5.0",
            "_view_name": "HTMLView",
            "description": "",
            "description_tooltip": null,
            "layout": "IPY_MODEL_b555b5e0c2ea484e9fd0f0141f50d518",
            "placeholder": "​",
            "style": "IPY_MODEL_591f7923415747ca891263d26a9e9d4c",
            "value": " 2.33G/2.33G [00:38&lt;00:00, 64.6MB/s]"
          }
        },
        "7f5855e7749a4d4c8edb10e275193540": {
          "model_module": "@jupyter-widgets/base",
          "model_name": "LayoutModel",
          "model_module_version": "1.2.0",
          "state": {
            "_model_module": "@jupyter-widgets/base",
            "_model_module_version": "1.2.0",
            "_model_name": "LayoutModel",
            "_view_count": null,
            "_view_module": "@jupyter-widgets/base",
            "_view_module_version": "1.2.0",
            "_view_name": "LayoutView",
            "align_content": null,
            "align_items": null,
            "align_self": null,
            "border": null,
            "bottom": null,
            "display": null,
            "flex": null,
            "flex_flow": null,
            "grid_area": null,
            "grid_auto_columns": null,
            "grid_auto_flow": null,
            "grid_auto_rows": null,
            "grid_column": null,
            "grid_gap": null,
            "grid_row": null,
            "grid_template_areas": null,
            "grid_template_columns": null,
            "grid_template_rows": null,
            "height": null,
            "justify_content": null,
            "justify_items": null,
            "left": null,
            "margin": null,
            "max_height": null,
            "max_width": null,
            "min_height": null,
            "min_width": null,
            "object_fit": null,
            "object_position": null,
            "order": null,
            "overflow": null,
            "overflow_x": null,
            "overflow_y": null,
            "padding": null,
            "right": null,
            "top": null,
            "visibility": null,
            "width": null
          }
        },
        "9e897c0a54f14232a5dc45536543fadf": {
          "model_module": "@jupyter-widgets/base",
          "model_name": "LayoutModel",
          "model_module_version": "1.2.0",
          "state": {
            "_model_module": "@jupyter-widgets/base",
            "_model_module_version": "1.2.0",
            "_model_name": "LayoutModel",
            "_view_count": null,
            "_view_module": "@jupyter-widgets/base",
            "_view_module_version": "1.2.0",
            "_view_name": "LayoutView",
            "align_content": null,
            "align_items": null,
            "align_self": null,
            "border": null,
            "bottom": null,
            "display": null,
            "flex": null,
            "flex_flow": null,
            "grid_area": null,
            "grid_auto_columns": null,
            "grid_auto_flow": null,
            "grid_auto_rows": null,
            "grid_column": null,
            "grid_gap": null,
            "grid_row": null,
            "grid_template_areas": null,
            "grid_template_columns": null,
            "grid_template_rows": null,
            "height": null,
            "justify_content": null,
            "justify_items": null,
            "left": null,
            "margin": null,
            "max_height": null,
            "max_width": null,
            "min_height": null,
            "min_width": null,
            "object_fit": null,
            "object_position": null,
            "order": null,
            "overflow": null,
            "overflow_x": null,
            "overflow_y": null,
            "padding": null,
            "right": null,
            "top": null,
            "visibility": null,
            "width": null
          }
        },
        "d102c78eb2e841dcb91fa3cdfbd26e43": {
          "model_module": "@jupyter-widgets/controls",
          "model_name": "DescriptionStyleModel",
          "model_module_version": "1.5.0",
          "state": {
            "_model_module": "@jupyter-widgets/controls",
            "_model_module_version": "1.5.0",
            "_model_name": "DescriptionStyleModel",
            "_view_count": null,
            "_view_module": "@jupyter-widgets/base",
            "_view_module_version": "1.2.0",
            "_view_name": "StyleView",
            "description_width": ""
          }
        },
        "7b99e53e54374af59222eb6519656fdf": {
          "model_module": "@jupyter-widgets/base",
          "model_name": "LayoutModel",
          "model_module_version": "1.2.0",
          "state": {
            "_model_module": "@jupyter-widgets/base",
            "_model_module_version": "1.2.0",
            "_model_name": "LayoutModel",
            "_view_count": null,
            "_view_module": "@jupyter-widgets/base",
            "_view_module_version": "1.2.0",
            "_view_name": "LayoutView",
            "align_content": null,
            "align_items": null,
            "align_self": null,
            "border": null,
            "bottom": null,
            "display": null,
            "flex": null,
            "flex_flow": null,
            "grid_area": null,
            "grid_auto_columns": null,
            "grid_auto_flow": null,
            "grid_auto_rows": null,
            "grid_column": null,
            "grid_gap": null,
            "grid_row": null,
            "grid_template_areas": null,
            "grid_template_columns": null,
            "grid_template_rows": null,
            "height": null,
            "justify_content": null,
            "justify_items": null,
            "left": null,
            "margin": null,
            "max_height": null,
            "max_width": null,
            "min_height": null,
            "min_width": null,
            "object_fit": null,
            "object_position": null,
            "order": null,
            "overflow": null,
            "overflow_x": null,
            "overflow_y": null,
            "padding": null,
            "right": null,
            "top": null,
            "visibility": null,
            "width": null
          }
        },
        "2ee69b63a12a4193bf583e00cfbd4035": {
          "model_module": "@jupyter-widgets/controls",
          "model_name": "ProgressStyleModel",
          "model_module_version": "1.5.0",
          "state": {
            "_model_module": "@jupyter-widgets/controls",
            "_model_module_version": "1.5.0",
            "_model_name": "ProgressStyleModel",
            "_view_count": null,
            "_view_module": "@jupyter-widgets/base",
            "_view_module_version": "1.2.0",
            "_view_name": "StyleView",
            "bar_color": null,
            "description_width": ""
          }
        },
        "b555b5e0c2ea484e9fd0f0141f50d518": {
          "model_module": "@jupyter-widgets/base",
          "model_name": "LayoutModel",
          "model_module_version": "1.2.0",
          "state": {
            "_model_module": "@jupyter-widgets/base",
            "_model_module_version": "1.2.0",
            "_model_name": "LayoutModel",
            "_view_count": null,
            "_view_module": "@jupyter-widgets/base",
            "_view_module_version": "1.2.0",
            "_view_name": "LayoutView",
            "align_content": null,
            "align_items": null,
            "align_self": null,
            "border": null,
            "bottom": null,
            "display": null,
            "flex": null,
            "flex_flow": null,
            "grid_area": null,
            "grid_auto_columns": null,
            "grid_auto_flow": null,
            "grid_auto_rows": null,
            "grid_column": null,
            "grid_gap": null,
            "grid_row": null,
            "grid_template_areas": null,
            "grid_template_columns": null,
            "grid_template_rows": null,
            "height": null,
            "justify_content": null,
            "justify_items": null,
            "left": null,
            "margin": null,
            "max_height": null,
            "max_width": null,
            "min_height": null,
            "min_width": null,
            "object_fit": null,
            "object_position": null,
            "order": null,
            "overflow": null,
            "overflow_x": null,
            "overflow_y": null,
            "padding": null,
            "right": null,
            "top": null,
            "visibility": null,
            "width": null
          }
        },
        "591f7923415747ca891263d26a9e9d4c": {
          "model_module": "@jupyter-widgets/controls",
          "model_name": "DescriptionStyleModel",
          "model_module_version": "1.5.0",
          "state": {
            "_model_module": "@jupyter-widgets/controls",
            "_model_module_version": "1.5.0",
            "_model_name": "DescriptionStyleModel",
            "_view_count": null,
            "_view_module": "@jupyter-widgets/base",
            "_view_module_version": "1.2.0",
            "_view_name": "StyleView",
            "description_width": ""
          }
        }
      }
    }
  },
  "nbformat": 4,
  "nbformat_minor": 0
}